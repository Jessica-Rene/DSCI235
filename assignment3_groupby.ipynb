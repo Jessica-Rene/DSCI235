{
 "cells": [
  {
   "cell_type": "markdown",
   "metadata": {},
   "source": [
    "#  DSCI 235 spr 2024 Assignment 3\n",
    "<font color = emerald>Jessica Reyes<font>"
   ]
  },
  {
   "cell_type": "code",
   "execution_count": 3,
   "metadata": {},
   "outputs": [],
   "source": [
    "import numpy as np\n",
    "import pandas as pd\n",
    "import matplotlib.pyplot as plt"
   ]
  },
  {
   "cell_type": "markdown",
   "metadata": {},
   "source": [
    "### Part 1:  Car mileage \n",
    "\n",
    "For this exercise we will use the following DataFrame of car mileage data:"
   ]
  },
  {
   "cell_type": "code",
   "execution_count": 4,
   "metadata": {},
   "outputs": [
    {
     "data": {
      "text/html": [
       "<div>\n",
       "<style scoped>\n",
       "    .dataframe tbody tr th:only-of-type {\n",
       "        vertical-align: middle;\n",
       "    }\n",
       "\n",
       "    .dataframe tbody tr th {\n",
       "        vertical-align: top;\n",
       "    }\n",
       "\n",
       "    .dataframe thead th {\n",
       "        text-align: right;\n",
       "    }\n",
       "</style>\n",
       "<table border=\"1\" class=\"dataframe\">\n",
       "  <thead>\n",
       "    <tr style=\"text-align: right;\">\n",
       "      <th></th>\n",
       "      <th>manufacturer</th>\n",
       "      <th>model</th>\n",
       "      <th>displ</th>\n",
       "      <th>year</th>\n",
       "      <th>cyl</th>\n",
       "      <th>trans</th>\n",
       "      <th>drv</th>\n",
       "      <th>cty</th>\n",
       "      <th>hwy</th>\n",
       "      <th>fl</th>\n",
       "      <th>class</th>\n",
       "    </tr>\n",
       "  </thead>\n",
       "  <tbody>\n",
       "    <tr>\n",
       "      <th>0</th>\n",
       "      <td>audi</td>\n",
       "      <td>a4</td>\n",
       "      <td>1.8</td>\n",
       "      <td>1999</td>\n",
       "      <td>4</td>\n",
       "      <td>auto(l5)</td>\n",
       "      <td>f</td>\n",
       "      <td>18</td>\n",
       "      <td>29</td>\n",
       "      <td>p</td>\n",
       "      <td>compact</td>\n",
       "    </tr>\n",
       "    <tr>\n",
       "      <th>1</th>\n",
       "      <td>audi</td>\n",
       "      <td>a4</td>\n",
       "      <td>1.8</td>\n",
       "      <td>1999</td>\n",
       "      <td>4</td>\n",
       "      <td>manual(m5)</td>\n",
       "      <td>f</td>\n",
       "      <td>21</td>\n",
       "      <td>29</td>\n",
       "      <td>p</td>\n",
       "      <td>compact</td>\n",
       "    </tr>\n",
       "    <tr>\n",
       "      <th>2</th>\n",
       "      <td>audi</td>\n",
       "      <td>a4</td>\n",
       "      <td>2.0</td>\n",
       "      <td>2008</td>\n",
       "      <td>4</td>\n",
       "      <td>manual(m6)</td>\n",
       "      <td>f</td>\n",
       "      <td>20</td>\n",
       "      <td>31</td>\n",
       "      <td>p</td>\n",
       "      <td>compact</td>\n",
       "    </tr>\n",
       "    <tr>\n",
       "      <th>3</th>\n",
       "      <td>audi</td>\n",
       "      <td>a4</td>\n",
       "      <td>2.0</td>\n",
       "      <td>2008</td>\n",
       "      <td>4</td>\n",
       "      <td>auto(av)</td>\n",
       "      <td>f</td>\n",
       "      <td>21</td>\n",
       "      <td>30</td>\n",
       "      <td>p</td>\n",
       "      <td>compact</td>\n",
       "    </tr>\n",
       "    <tr>\n",
       "      <th>4</th>\n",
       "      <td>audi</td>\n",
       "      <td>a4</td>\n",
       "      <td>2.8</td>\n",
       "      <td>1999</td>\n",
       "      <td>6</td>\n",
       "      <td>auto(l5)</td>\n",
       "      <td>f</td>\n",
       "      <td>16</td>\n",
       "      <td>26</td>\n",
       "      <td>p</td>\n",
       "      <td>compact</td>\n",
       "    </tr>\n",
       "  </tbody>\n",
       "</table>\n",
       "</div>"
      ],
      "text/plain": [
       "  manufacturer model  displ  year  cyl       trans drv  cty  hwy fl    class\n",
       "0         audi    a4    1.8  1999    4    auto(l5)   f   18   29  p  compact\n",
       "1         audi    a4    1.8  1999    4  manual(m5)   f   21   29  p  compact\n",
       "2         audi    a4    2.0  2008    4  manual(m6)   f   20   31  p  compact\n",
       "3         audi    a4    2.0  2008    4    auto(av)   f   21   30  p  compact\n",
       "4         audi    a4    2.8  1999    6    auto(l5)   f   16   26  p  compact"
      ]
     },
     "execution_count": 4,
     "metadata": {},
     "output_type": "execute_result"
    }
   ],
   "source": [
    "df = pd.read_csv(\"https://github.com/selva86/datasets/raw/master/mpg_ggplot2.csv\")\n",
    "df.head()"
   ]
  },
  {
   "cell_type": "markdown",
   "metadata": {},
   "source": [
    "This dataset provides information about each car, including  its manufacturer, model, size of the engine in liters (displ), year, transmission (front wheel drive, rear wheel drive or 4wd), and mileage in city and highway driving."
   ]
  },
  {
   "cell_type": "markdown",
   "metadata": {},
   "source": [
    "Using this data answer the following:"
   ]
  },
  {
   "cell_type": "markdown",
   "metadata": {},
   "source": [
    "* How many compact cars are present in the dataset?  Solve this using `groupby`.  Create a DataFrame that contains all the highly fuel efficient cars (highway mileage of 35 or above) that are not made by Toyota."
   ]
  },
  {
   "cell_type": "code",
   "execution_count": 5,
   "metadata": {},
   "outputs": [
    {
     "name": "stdout",
     "output_type": "stream",
     "text": [
      "Compact cars in dataset:  47\n",
      "Highly fuel efficient cars: \n",
      "    manufacturer       model  displ  year  cyl       trans drv  cty  hwy fl  \\\n",
      "105        honda       civic    1.8  2008    4    auto(l5)   f   25   36  r   \n",
      "106        honda       civic    1.8  2008    4    auto(l5)   f   24   36  c   \n",
      "212   volkswagen       jetta    1.9  1999    4  manual(m5)   f   33   44  d   \n",
      "221   volkswagen  new beetle    1.9  1999    4  manual(m5)   f   35   44  d   \n",
      "222   volkswagen  new beetle    1.9  1999    4    auto(l4)   f   29   41  d   \n",
      "\n",
      "          class  \n",
      "105  subcompact  \n",
      "106  subcompact  \n",
      "212     compact  \n",
      "221  subcompact  \n",
      "222  subcompact  \n"
     ]
    }
   ],
   "source": [
    "# compact cars\n",
    "compact_cars = df[df['class'] == 'compact'].shape[0]\n",
    "print('Compact cars in dataset: ', compact_cars)\n",
    "# fuel efficient cars that does not include 'toyota'\n",
    "efficients = df[(df['hwy'] >= 35) & (df['manufacturer'] != 'toyota')]\n",
    "print('Highly fuel efficient cars: ')\n",
    "print(efficients)"
   ]
  },
  {
   "cell_type": "code",
   "execution_count": 6,
   "metadata": {},
   "outputs": [
    {
     "name": "stdout",
     "output_type": "stream",
     "text": [
      "Fuel efficient cars: \n",
      "    manufacturer       model  displ  year  cyl       trans drv  cty  hwy fl  \\\n",
      "105        honda       civic    1.8  2008    4    auto(l5)   f   25   36  r   \n",
      "106        honda       civic    1.8  2008    4    auto(l5)   f   24   36  c   \n",
      "195       toyota     corolla    1.8  1999    4  manual(m5)   f   26   35  r   \n",
      "196       toyota     corolla    1.8  2008    4  manual(m5)   f   28   37  r   \n",
      "197       toyota     corolla    1.8  2008    4    auto(l4)   f   26   35  r   \n",
      "212   volkswagen       jetta    1.9  1999    4  manual(m5)   f   33   44  d   \n",
      "221   volkswagen  new beetle    1.9  1999    4  manual(m5)   f   35   44  d   \n",
      "222   volkswagen  new beetle    1.9  1999    4    auto(l4)   f   29   41  d   \n",
      "\n",
      "          class  \n",
      "105  subcompact  \n",
      "106  subcompact  \n",
      "195     compact  \n",
      "196     compact  \n",
      "197     compact  \n",
      "212     compact  \n",
      "221  subcompact  \n",
      "222  subcompact  \n"
     ]
    }
   ],
   "source": [
    "# fuel efficient cars\n",
    "print('Fuel efficient cars: ')\n",
    "fuel_efficient = df[df['hwy'] >= 35]\n",
    "print(fuel_efficient)"
   ]
  },
  {
   "cell_type": "markdown",
   "metadata": {},
   "source": [
    "* What was the city gas mileage of the audi a4 in 2008?  Do that two different ways:  using a Boolean mask, and by using a MultiIndex."
   ]
  },
  {
   "cell_type": "code",
   "execution_count": 7,
   "metadata": {},
   "outputs": [
    {
     "name": "stdout",
     "output_type": "stream",
     "text": [
      "City mileage of audi a4 in 2008:  20\n",
      "City mileage of audi a4 in 2008:  manufacturer  model  year\n",
      "audi          a4     2008    20\n",
      "                     2008    21\n",
      "                     2008    18\n",
      "Name: cty, dtype: int64\n"
     ]
    }
   ],
   "source": [
    "# audi a4\n",
    "audi_a4 = df[(df['manufacturer'] == 'audi') & (df['model'] == 'a4') & (df['year'] == 2008)]\n",
    "print('City mileage of audi a4 in 2008: ', audi_a4['cty'].values[0])\n",
    "\n",
    "multi_index = df.set_index(['manufacturer', 'model', 'year']).sort_index()\n",
    "print('City mileage of audi a4 in 2008: ', multi_index.loc[('audi', 'a4', 2008)]['cty'])"
   ]
  },
  {
   "cell_type": "markdown",
   "metadata": {},
   "source": [
    "* Using `groupby`, compute the average hwy mileage by manufacturer and plot a  horizontal bar chart of the data.  Have the bars sorted by average mileage.  Use the matplotlib ``barh`` function or the DataFrame ``barh`` method."
   ]
  },
  {
   "cell_type": "code",
   "execution_count": 8,
   "metadata": {},
   "outputs": [
    {
     "name": "stdout",
     "output_type": "stream",
     "text": [
      "manufacturer\n",
      "honda         32.555556\n",
      "volkswagen    29.222222\n",
      "hyundai       26.857143\n",
      "audi          26.444444\n",
      "pontiac       26.400000\n",
      "subaru        25.571429\n",
      "toyota        24.911765\n",
      "nissan        24.615385\n",
      "chevrolet     21.894737\n",
      "ford          19.360000\n",
      "mercury       18.000000\n",
      "dodge         17.945946\n",
      "jeep          17.625000\n",
      "lincoln       17.000000\n",
      "land rover    16.500000\n",
      "Name: hwy, dtype: float64\n"
     ]
    }
   ],
   "source": [
    "# hwy mileage by manufacturer\n",
    "mileage_by_manufacturer = df.groupby('manufacturer')['hwy'].mean().sort_values(ascending=False)\n",
    "print(mileage_by_manufacturer)"
   ]
  },
  {
   "cell_type": "code",
   "execution_count": 9,
   "metadata": {},
   "outputs": [
    {
     "data": {
      "image/png": "[encoded data removed]",
      "text/plain": [
       "<Figure size 640x480 with 1 Axes>"
      ]
     },
     "metadata": {},
     "output_type": "display_data"
    }
   ],
   "source": [
    "# bar chart with average hwy mileage by manufacturer\n",
    "plt.barh(mileage_by_manufacturer.index, mileage_by_manufacturer.values)\n",
    "plt.xlabel('Average Highway Mileage')\n",
    "plt.ylabel('Manufacturer')\n",
    "plt.title('Average Highway Mileage by Manufacturer')\n",
    "plt.show()"
   ]
  },
  {
   "cell_type": "markdown",
   "metadata": {},
   "source": [
    "* Which class of vehicle has the highest highway MPG on average?  (Use groupby to answer this)."
   ]
  },
  {
   "cell_type": "code",
   "execution_count": 10,
   "metadata": {},
   "outputs": [
    {
     "name": "stdout",
     "output_type": "stream",
     "text": [
      "Class of vehicle with highest highway MPG on average:  compact\n"
     ]
    }
   ],
   "source": [
    "# class of vehicle with highest highway MPG on average\n",
    "highest_mpg_class = df.groupby('class')['hwy'].mean().idxmax()\n",
    "print('Class of vehicle with highest highway MPG on average: ', highest_mpg_class)"
   ]
  },
  {
   "cell_type": "markdown",
   "metadata": {},
   "source": [
    "* Create a DataFrame with car information that includes only those cars for which the manufacturer achieved an average highway MPG of 26 and above. For example, the Audi A4 will be included only on those years for which Audi had achieved a highway MPG of at least 26."
   ]
  },
  {
   "cell_type": "code",
   "execution_count": 11,
   "metadata": {},
   "outputs": [
    {
     "name": "stdout",
     "output_type": "stream",
     "text": [
      "    manufacturer   model  displ  year  cyl       trans drv  cty  hwy fl  \\\n",
      "0           audi      a4    1.8  1999    4    auto(l5)   f   18   29  p   \n",
      "1           audi      a4    1.8  1999    4  manual(m5)   f   21   29  p   \n",
      "2           audi      a4    2.0  2008    4  manual(m6)   f   20   31  p   \n",
      "3           audi      a4    2.0  2008    4    auto(av)   f   21   30  p   \n",
      "4           audi      a4    2.8  1999    6    auto(l5)   f   16   26  p   \n",
      "..           ...     ...    ...   ...  ...         ...  ..  ...  ... ..   \n",
      "229   volkswagen  passat    2.0  2008    4    auto(s6)   f   19   28  p   \n",
      "230   volkswagen  passat    2.0  2008    4  manual(m6)   f   21   29  p   \n",
      "231   volkswagen  passat    2.8  1999    6    auto(l5)   f   16   26  p   \n",
      "232   volkswagen  passat    2.8  1999    6  manual(m5)   f   18   26  p   \n",
      "233   volkswagen  passat    3.6  2008    6    auto(s6)   f   17   26  p   \n",
      "\n",
      "       class  \n",
      "0    compact  \n",
      "1    compact  \n",
      "2    compact  \n",
      "3    compact  \n",
      "4    compact  \n",
      "..       ...  \n",
      "229  midsize  \n",
      "230  midsize  \n",
      "231  midsize  \n",
      "232  midsize  \n",
      "233  midsize  \n",
      "\n",
      "[100 rows x 11 columns]\n"
     ]
    }
   ],
   "source": [
    "# car information including only cars that achieved avg hwy MPG >= 26\n",
    "car_info = df.groupby(['manufacturer', 'model']).filter(lambda x: x['hwy'].mean() >= 26)\n",
    "print(car_info)"
   ]
  },
  {
   "cell_type": "markdown",
   "metadata": {},
   "source": [
    "* Which vehicle has the largest engine in this dataset?  What is the most common engine displacement?"
   ]
  },
  {
   "cell_type": "code",
   "execution_count": 12,
   "metadata": {},
   "outputs": [
    {
     "name": "stdout",
     "output_type": "stream",
     "text": [
      "Largest engine:  corvette\n"
     ]
    }
   ],
   "source": [
    "# engine size\n",
    "largest_engine = df.sort_values('displ', ascending=False).iloc[0]\n",
    "print('Largest engine: ', largest_engine['model'])"
   ]
  },
  {
   "cell_type": "code",
   "execution_count": 13,
   "metadata": {},
   "outputs": [
    {
     "name": "stdout",
     "output_type": "stream",
     "text": [
      "Most common engine displacement:  2.0\n"
     ]
    }
   ],
   "source": [
    "# most common engine displacement\n",
    "most_common_displacement = df['displ'].value_counts().idxmax()\n",
    "print('Most common engine displacement: ', most_common_displacement)"
   ]
  },
  {
   "cell_type": "markdown",
   "metadata": {},
   "source": [
    "## Part 2:  Analyzing annual GDP\n",
    "\n",
    "Next, we will again look at the dataset of annual Gross Domestic Product (GDP) collected from the 1960's across the world."
   ]
  },
  {
   "cell_type": "code",
   "execution_count": 14,
   "metadata": {},
   "outputs": [
    {
     "data": {
      "text/html": [
       "<div>\n",
       "<style scoped>\n",
       "    .dataframe tbody tr th:only-of-type {\n",
       "        vertical-align: middle;\n",
       "    }\n",
       "\n",
       "    .dataframe tbody tr th {\n",
       "        vertical-align: top;\n",
       "    }\n",
       "\n",
       "    .dataframe thead th {\n",
       "        text-align: right;\n",
       "    }\n",
       "</style>\n",
       "<table border=\"1\" class=\"dataframe\">\n",
       "  <thead>\n",
       "    <tr style=\"text-align: right;\">\n",
       "      <th></th>\n",
       "      <th>index</th>\n",
       "      <th>country</th>\n",
       "      <th>year</th>\n",
       "      <th>population</th>\n",
       "      <th>GDP</th>\n",
       "    </tr>\n",
       "  </thead>\n",
       "  <tbody>\n",
       "    <tr>\n",
       "      <th>0</th>\n",
       "      <td>2271</td>\n",
       "      <td>Afghanistan</td>\n",
       "      <td>2015</td>\n",
       "      <td>32526562.0</td>\n",
       "      <td>1.919944e+10</td>\n",
       "    </tr>\n",
       "    <tr>\n",
       "      <th>1</th>\n",
       "      <td>2272</td>\n",
       "      <td>Afghanistan</td>\n",
       "      <td>2014</td>\n",
       "      <td>31627506.0</td>\n",
       "      <td>2.005019e+10</td>\n",
       "    </tr>\n",
       "    <tr>\n",
       "      <th>2</th>\n",
       "      <td>2273</td>\n",
       "      <td>Afghanistan</td>\n",
       "      <td>2013</td>\n",
       "      <td>30682500.0</td>\n",
       "      <td>2.004633e+10</td>\n",
       "    </tr>\n",
       "    <tr>\n",
       "      <th>3</th>\n",
       "      <td>2274</td>\n",
       "      <td>Afghanistan</td>\n",
       "      <td>2012</td>\n",
       "      <td>29726803.0</td>\n",
       "      <td>2.053654e+10</td>\n",
       "    </tr>\n",
       "    <tr>\n",
       "      <th>4</th>\n",
       "      <td>2275</td>\n",
       "      <td>Afghanistan</td>\n",
       "      <td>2011</td>\n",
       "      <td>28809167.0</td>\n",
       "      <td>1.793024e+10</td>\n",
       "    </tr>\n",
       "  </tbody>\n",
       "</table>\n",
       "</div>"
      ],
      "text/plain": [
       "   index      country  year  population           GDP\n",
       "0   2271  Afghanistan  2015  32526562.0  1.919944e+10\n",
       "1   2272  Afghanistan  2014  31627506.0  2.005019e+10\n",
       "2   2273  Afghanistan  2013  30682500.0  2.004633e+10\n",
       "3   2274  Afghanistan  2012  29726803.0  2.053654e+10\n",
       "4   2275  Afghanistan  2011  28809167.0  1.793024e+10"
      ]
     },
     "execution_count": 14,
     "metadata": {},
     "output_type": "execute_result"
    }
   ],
   "source": [
    "gdp = pd.read_csv('http://cs.colostate.edu/~asa/courses/dsci235/spr21/data/worldstats.csv')\n",
    "gdp.head()"
   ]
  },
  {
   "cell_type": "markdown",
   "metadata": {},
   "source": [
    "* Using `groupby`, find the country that had the largest growth in GDP from 1990 to 2015."
   ]
  },
  {
   "cell_type": "code",
   "execution_count": 15,
   "metadata": {},
   "outputs": [
    {
     "name": "stdout",
     "output_type": "stream",
     "text": [
      "Country with largest growth in GDP from 1990 to 2015:  United States\n"
     ]
    }
   ],
   "source": [
    "#largest gdp from 1990 to 2015\n",
    "gdp_filtered = gdp[gdp['year'].isin([1990, 2015])]\n",
    "gdp_filtered = gdp_filtered.pivot(index='country', columns='year', values='GDP')\n",
    "gdp_filtered['growth'] = gdp_filtered[2015] - gdp_filtered[1990]\n",
    "largest_growth = gdp_filtered.sort_values('growth', ascending=False).index[0]\n",
    "print('Country with largest growth in GDP from 1990 to 2015: ', largest_growth)"
   ]
  },
  {
   "cell_type": "markdown",
   "metadata": {},
   "source": [
    "### Part 3: analyzing movie ratings\n",
    "\n",
    "Your task is to analyze movie ratings data from the [MovieLens](https://grouplens.org/datasets/movielens/) dataset.\n",
    "They have multiple datasets, and our focus will be their [1M Dataset](https://grouplens.org/datasets/movielens/1m/) dataset that contains around 1 million movie ratings from 6000 users on 4000 movies."
   ]
  },
  {
   "cell_type": "markdown",
   "metadata": {},
   "source": [
    "\n",
    "For the following questions we will focus on two of the MovieLens data files:\n",
    "\n",
    "\"movies.dat\", which describes the movies, and \n",
    "\n",
    "\"ratings.dat\" which provides the movie ratings.\n",
    "\n",
    "The ratings file \"ratings.dat\" has the following format:\n",
    "\n",
    "```\n",
    "user_id::movie_id::rating::time_stamp\n",
    "```\n",
    "\n",
    "- user_id is in the range between 1 and 6040 \n",
    "- movie_id is in th range between 1 and 3952\n",
    "- Ratings are on a 5-star scale (whole-star ratings only)\n",
    "- Timestamp is represented in seconds since the epoch as returned by Unix time command.\n",
    "\n",
    "Movie information is in the file \"movies.dat\" and is in the following\n",
    "format:\n",
    "\n",
    "```\n",
    "MovieID::Title::Genres\n",
    "```\n",
    "\n",
    "- Titles are identical to titles provided by IMDB (including year of release)\n",
    "- Genres are pipe-separated.\n",
    "\n",
    "The following commands will read the data into pandas DataFrames:\n"
   ]
  },
  {
   "cell_type": "code",
   "execution_count": 16,
   "metadata": {},
   "outputs": [],
   "source": [
    "movies=pd.read_csv('https://www.cs.colostate.edu/~asa/courses/dsci235/spr21/data/movies.dat', sep='::', engine='python', header=None, names=['movie_id', 'title', 'genres'])"
   ]
  },
  {
   "cell_type": "code",
   "execution_count": 17,
   "metadata": {},
   "outputs": [
    {
     "data": {
      "text/html": [
       "<div>\n",
       "<style scoped>\n",
       "    .dataframe tbody tr th:only-of-type {\n",
       "        vertical-align: middle;\n",
       "    }\n",
       "\n",
       "    .dataframe tbody tr th {\n",
       "        vertical-align: top;\n",
       "    }\n",
       "\n",
       "    .dataframe thead th {\n",
       "        text-align: right;\n",
       "    }\n",
       "</style>\n",
       "<table border=\"1\" class=\"dataframe\">\n",
       "  <thead>\n",
       "    <tr style=\"text-align: right;\">\n",
       "      <th></th>\n",
       "      <th>movie_id</th>\n",
       "      <th>title</th>\n",
       "      <th>genres</th>\n",
       "    </tr>\n",
       "  </thead>\n",
       "  <tbody>\n",
       "    <tr>\n",
       "      <th>0</th>\n",
       "      <td>1</td>\n",
       "      <td>Toy Story (1995)</td>\n",
       "      <td>Animation|Children's|Comedy</td>\n",
       "    </tr>\n",
       "    <tr>\n",
       "      <th>1</th>\n",
       "      <td>2</td>\n",
       "      <td>Jumanji (1995)</td>\n",
       "      <td>Adventure|Children's|Fantasy</td>\n",
       "    </tr>\n",
       "    <tr>\n",
       "      <th>2</th>\n",
       "      <td>3</td>\n",
       "      <td>Grumpier Old Men (1995)</td>\n",
       "      <td>Comedy|Romance</td>\n",
       "    </tr>\n",
       "    <tr>\n",
       "      <th>3</th>\n",
       "      <td>4</td>\n",
       "      <td>Waiting to Exhale (1995)</td>\n",
       "      <td>Comedy|Drama</td>\n",
       "    </tr>\n",
       "    <tr>\n",
       "      <th>4</th>\n",
       "      <td>5</td>\n",
       "      <td>Father of the Bride Part II (1995)</td>\n",
       "      <td>Comedy</td>\n",
       "    </tr>\n",
       "  </tbody>\n",
       "</table>\n",
       "</div>"
      ],
      "text/plain": [
       "   movie_id                               title                        genres\n",
       "0         1                    Toy Story (1995)   Animation|Children's|Comedy\n",
       "1         2                      Jumanji (1995)  Adventure|Children's|Fantasy\n",
       "2         3             Grumpier Old Men (1995)                Comedy|Romance\n",
       "3         4            Waiting to Exhale (1995)                  Comedy|Drama\n",
       "4         5  Father of the Bride Part II (1995)                        Comedy"
      ]
     },
     "execution_count": 17,
     "metadata": {},
     "output_type": "execute_result"
    }
   ],
   "source": [
    "movies.head()"
   ]
  },
  {
   "cell_type": "code",
   "execution_count": 18,
   "metadata": {},
   "outputs": [
    {
     "data": {
      "text/html": [
       "<div>\n",
       "<style scoped>\n",
       "    .dataframe tbody tr th:only-of-type {\n",
       "        vertical-align: middle;\n",
       "    }\n",
       "\n",
       "    .dataframe tbody tr th {\n",
       "        vertical-align: top;\n",
       "    }\n",
       "\n",
       "    .dataframe thead th {\n",
       "        text-align: right;\n",
       "    }\n",
       "</style>\n",
       "<table border=\"1\" class=\"dataframe\">\n",
       "  <thead>\n",
       "    <tr style=\"text-align: right;\">\n",
       "      <th></th>\n",
       "      <th>user_id</th>\n",
       "      <th>movie_id</th>\n",
       "      <th>rating</th>\n",
       "      <th>time_stamp</th>\n",
       "    </tr>\n",
       "  </thead>\n",
       "  <tbody>\n",
       "    <tr>\n",
       "      <th>0</th>\n",
       "      <td>1</td>\n",
       "      <td>1193</td>\n",
       "      <td>5</td>\n",
       "      <td>978300760</td>\n",
       "    </tr>\n",
       "    <tr>\n",
       "      <th>1</th>\n",
       "      <td>1</td>\n",
       "      <td>661</td>\n",
       "      <td>3</td>\n",
       "      <td>978302109</td>\n",
       "    </tr>\n",
       "    <tr>\n",
       "      <th>2</th>\n",
       "      <td>1</td>\n",
       "      <td>914</td>\n",
       "      <td>3</td>\n",
       "      <td>978301968</td>\n",
       "    </tr>\n",
       "    <tr>\n",
       "      <th>3</th>\n",
       "      <td>1</td>\n",
       "      <td>3408</td>\n",
       "      <td>4</td>\n",
       "      <td>978300275</td>\n",
       "    </tr>\n",
       "    <tr>\n",
       "      <th>4</th>\n",
       "      <td>1</td>\n",
       "      <td>2355</td>\n",
       "      <td>5</td>\n",
       "      <td>978824291</td>\n",
       "    </tr>\n",
       "  </tbody>\n",
       "</table>\n",
       "</div>"
      ],
      "text/plain": [
       "   user_id  movie_id  rating  time_stamp\n",
       "0        1      1193       5   978300760\n",
       "1        1       661       3   978302109\n",
       "2        1       914       3   978301968\n",
       "3        1      3408       4   978300275\n",
       "4        1      2355       5   978824291"
      ]
     },
     "execution_count": 18,
     "metadata": {},
     "output_type": "execute_result"
    }
   ],
   "source": [
    "ratings=pd.read_csv('https://www.cs.colostate.edu/~asa/courses/dsci235/spr21/data/ratings_subset.dat', sep='::', engine='python', header=None, names=['user_id', 'movie_id', 'rating', 'time_stamp'])\n",
    "ratings.head()"
   ]
  },
  {
   "cell_type": "markdown",
   "metadata": {},
   "source": [
    "Write pandas commands that will answer the following questions:"
   ]
  },
  {
   "cell_type": "markdown",
   "metadata": {},
   "source": [
    "* The ratings DataFrame identifies movies by their id.  To obtain movie ratings by name, you will need to `merge` the two DataFrames (movies and ratings).  Perform an `inner` merge.  The resulting DataFrame might have fewer rows than the original ratings DataFrame.  Explain why this is happening in this case."
   ]
  },
  {
   "cell_type": "code",
   "execution_count": 19,
   "metadata": {},
   "outputs": [
    {
     "name": "stdout",
     "output_type": "stream",
     "text": [
      "       user_id  movie_id  rating  time_stamp  \\\n",
      "0            1      1193       5   978300760   \n",
      "1            1       661       3   978302109   \n",
      "2            1       914       3   978301968   \n",
      "3            1      3408       4   978300275   \n",
      "4            1      2355       5   978824291   \n",
      "...        ...       ...     ...         ...   \n",
      "97615      669       585       4   975631958   \n",
      "97616      669       586       3   975631958   \n",
      "97617      669       587       3   975631938   \n",
      "97618      669       588       4   975631606   \n",
      "97619      669       589       5   975633871   \n",
      "\n",
      "                                        title  \\\n",
      "0      One Flew Over the Cuckoo's Nest (1975)   \n",
      "1            James and the Giant Peach (1996)   \n",
      "2                         My Fair Lady (1964)   \n",
      "3                      Erin Brockovich (2000)   \n",
      "4                        Bug's Life, A (1998)   \n",
      "...                                       ...   \n",
      "97615           Brady Bunch Movie, The (1995)   \n",
      "97616                       Home Alone (1990)   \n",
      "97617                            Ghost (1990)   \n",
      "97618                          Aladdin (1992)   \n",
      "97619       Terminator 2: Judgment Day (1991)   \n",
      "\n",
      "                                    genres  \n",
      "0                                    Drama  \n",
      "1             Animation|Children's|Musical  \n",
      "2                          Musical|Romance  \n",
      "3                                    Drama  \n",
      "4              Animation|Children's|Comedy  \n",
      "...                                    ...  \n",
      "97615                               Comedy  \n",
      "97616                    Children's|Comedy  \n",
      "97617              Comedy|Romance|Thriller  \n",
      "97618  Animation|Children's|Comedy|Musical  \n",
      "97619               Action|Sci-Fi|Thriller  \n",
      "\n",
      "[97620 rows x 6 columns]\n"
     ]
    }
   ],
   "source": [
    "# merge the DataFrames\n",
    "merged_df = pd.merge(ratings, movies, on='movie_id', how='inner')\n",
    "print(merged_df)"
   ]
  },
  {
   "cell_type": "markdown",
   "metadata": {},
   "source": [
    "The resulting DataFrame might have fewer rows than the original ratings DataFrame. This happens because an inner merge only keeps the rows where there is a match in both dataframes."
   ]
  },
  {
   "cell_type": "markdown",
   "metadata": {},
   "source": [
    "* Which movie has received the largest number of ratings? (In this and other questions, provide titles rather than IDs!"
   ]
  },
  {
   "cell_type": "code",
   "execution_count": 20,
   "metadata": {},
   "outputs": [
    {
     "name": "stdout",
     "output_type": "stream",
     "text": [
      "Movie with largest number of ratings:  American Beauty (1999)\n"
     ]
    }
   ],
   "source": [
    "# largest number of ratings\n",
    "largest_rating = merged_df['title'].value_counts().idxmax()\n",
    "print('Movie with largest number of ratings: ', largest_rating)"
   ]
  },
  {
   "cell_type": "markdown",
   "metadata": {},
   "source": [
    "* Which movie received the largest number of five star ratings?"
   ]
  },
  {
   "cell_type": "code",
   "execution_count": 21,
   "metadata": {},
   "outputs": [
    {
     "name": "stdout",
     "output_type": "stream",
     "text": [
      "Movie with largest number of five star ratings:  American Beauty (1999)\n"
     ]
    }
   ],
   "source": [
    "# largest number of five star ratings\n",
    "five_star_ratings = merged_df[merged_df['rating'] == 5]\n",
    "largest_five_star = five_star_ratings['title'].value_counts().idxmax()\n",
    "print('Movie with largest number of five star ratings: ', largest_five_star)"
   ]
  },
  {
   "cell_type": "markdown",
   "metadata": {},
   "source": [
    "* Which movie received the highest average rating?"
   ]
  },
  {
   "cell_type": "code",
   "execution_count": 22,
   "metadata": {},
   "outputs": [
    {
     "name": "stdout",
     "output_type": "stream",
     "text": [
      "Movie with highest average rating:  Autumn Sonata (1978)\n"
     ]
    }
   ],
   "source": [
    "# highest average rating\n",
    "highest_average = merged_df.groupby('title')['rating'].mean().idxmax()\n",
    "print('Movie with highest average rating: ', highest_average)"
   ]
  },
  {
   "cell_type": "markdown",
   "metadata": {},
   "source": [
    "* In what follows we will define a movie as **highly rated** if at least 50% of its ratings are a \"5\".  To remove the ability of just a few raters to influence the results, for this task, only consider movies that have received at least 20 ratings.  In this question you have two tasks:\n",
    "  *  Extract all highly rated movies that received at least 20 ratings.\n",
    "  *  Among those movies, what is the most common genre?\n",
    " \n",
    "Since pandas does not provide very good support for processing strings you may use a for loop for computing the most common genre, i.e. something like:\n",
    "\n",
    "```Python\n",
    "for genres in df['genre'] :\n",
    "   # do something with genres string\n",
    "```\n",
    "\n",
    "Keep in mind that each entry in the genre column can contain multiple genres, so those need to be separated out (recommend using `str.split` for that)."
   ]
  },
  {
   "cell_type": "code",
   "execution_count": 23,
   "metadata": {},
   "outputs": [
    {
     "name": "stdout",
     "output_type": "stream",
     "text": [
      "Highly rated movies: \n",
      "                                   count      mean\n",
      "title                                             \n",
      "'burbs, The (1989)                    32  3.031250\n",
      "...And Justice for All (1979)         20  4.050000\n",
      "10 Things I Hate About You (1999)     77  3.584416\n",
      "101 Dalmatians (1961)                 58  3.741379\n",
      "101 Dalmatians (1996)                 32  3.187500\n",
      "...                                  ...       ...\n",
      "Young Guns (1988)                     58  3.465517\n",
      "Young Guns II (1990)                  35  3.171429\n",
      "Young Sherlock Holmes (1985)          30  3.433333\n",
      "Zero Effect (1998)                    26  3.961538\n",
      "eXistenZ (1999)                       38  3.052632\n",
      "\n",
      "[1346 rows x 2 columns]\n"
     ]
    }
   ],
   "source": [
    "# highly rated movies\n",
    "min_ratings = 20\n",
    "min_rating_percentage = 0.5\n",
    "\n",
    "movie_ratings = merged_df.groupby('title')['rating'].agg(['count', 'mean'])\n",
    "highly_rated = movie_ratings[movie_ratings['count'] >= min_ratings]\n",
    "highly_rated = highly_rated[highly_rated['mean'] >= min_rating_percentage]\n",
    "\n",
    "print('Highly rated movies: ')\n",
    "print(highly_rated)"
   ]
  },
  {
   "cell_type": "code",
   "execution_count": 24,
   "metadata": {},
   "outputs": [
    {
     "name": "stdout",
     "output_type": "stream",
     "text": [
      "Most common genre among highly rated movies:  Comedy\n"
     ]
    }
   ],
   "source": [
    "# most common genre among highly rated movies\n",
    "genre_counts = {}\n",
    "\n",
    "# Iterate over the titles of highly rated movies\n",
    "for genres in highly_rated.index:\n",
    "    # Get the genres of the current movie\n",
    "    movie_genres = movies[movies['title'] == genres]['genres'].values[0]\n",
    "    \n",
    "    # Split the genres by '|' and count them\n",
    "    for genre in movie_genres.split('|'):\n",
    "        if genre in genre_counts:\n",
    "            genre_counts[genre] += 1\n",
    "        else:\n",
    "            genre_counts[genre] = 1\n",
    "\n",
    "# Find the most common genre\n",
    "most_common_genre = max(genre_counts, key=genre_counts.get)\n",
    "print('Most common genre among highly rated movies: ', most_common_genre)\n"
   ]
  },
  {
   "cell_type": "markdown",
   "metadata": {},
   "source": [
    "### Submission\n",
    "\n",
    "Submit your assignment as a Jupyter notebook via Canvas.  \n",
    "\n",
    "### Grading \n",
    "\n",
    "Grading sheet for assignment 3\n",
    "\n",
    "```\n",
    "pandas:  car mileage (50 pts)\n",
    "  compact cars (10 pts)\n",
    "  audi a4 (10 pts)\n",
    "  hwy mileage by manufacturer (10 pts)\n",
    "  average hwy mileage by manufacturer (10 pts)\n",
    "  engine size (10 pts)\n",
    "\n",
    "Analyzing GDP (10 pts)\n",
    "\n",
    "Analyzing movie rating data (40 pts)\n",
    "  merge dataframes (10 pts)\n",
    "  movie with largest number of ratings (10 pts)\n",
    "  movie with highest average rating (10 pts)\n",
    "  highly rated movies:\n",
    "    extracting them (5 pts)\n",
    "    most common genre among highly rated movies (5 pts)\n",
    "  \n",
    "```\n",
    "\n",
    "Throughout the course, use of for loops is discouraged.  **Points will be taken off for using for loops unless explicitly allowed.**  pandas /NumPy provide tools for accomplishing things without the need for Python loops."
   ]
  }
 ],
 "metadata": {
  "kernelspec": {
   "display_name": "Python 3 (ipykernel)",
   "language": "python",
   "name": "python3"
  },
  "language_info": {
   "codemirror_mode": {
    "name": "ipython",
    "version": 3
   },
   "file_extension": ".py",
   "mimetype": "text/x-python",
   "name": "python",
   "nbconvert_exporter": "python",
   "pygments_lexer": "ipython3",
   "version": "3.11.11"
  }
 },
 "nbformat": 4,
 "nbformat_minor": 4
}
