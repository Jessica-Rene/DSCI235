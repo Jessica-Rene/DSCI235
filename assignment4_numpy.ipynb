{
 "cells": [
  {
   "cell_type": "markdown",
   "metadata": {},
   "source": [
    "# DSCI 235 SP 2024 Assignment 4\n"
   ]
  },
  {
   "cell_type": "code",
   "execution_count": 1,
   "metadata": {},
   "outputs": [],
   "source": [
    "import numpy as np"
   ]
  },
  {
   "cell_type": "markdown",
   "metadata": {},
   "source": [
    "## Part 1:  Analyzing iris plant data\n",
    "\n",
    "\n",
    "In this part of the assignment we will analyze the **iris dataset**.\n",
    "This is a famous dataset collected by statistician and biologist Ronald Fisher in 1936. \n",
    "This dataset even has its own [wikipedia page](https://en.wikipedia.org/wiki/Iris_flower_data_set).\n",
    "The data contains measurments that describe three types of iris flowers\n",
    "*Iris setosa*, *Iris virginica*, and *Iris versicolor*.\n",
    "\n",
    "<img style=\"padding: 10px;\" align=\"right\" alt=\"Iris setosa in public domain\" src=\"https://upload.wikimedia.org/wikipedia/commons/8/86/Iris_setosa.JPG\" width=\"200\">\n",
    "\n",
    "<img style=\"padding: 10px;\" align=\"right\" alt=\"Iris versicolor Danielle Langlois CC BY-SA 3.0\" src=\"https://upload.wikimedia.org/wikipedia/commons/4/41/Iris_versicolor_3.jpg\" width=\"200\">\n",
    "\n",
    "<img style=\"padding: 10px\" align=\"right\" alt=\"Iris virginica by Frank Mayfield CC BY-SA 2.0\" src=\"https://upload.wikimedia.org/wikipedia/commons/9/9f/Iris_virginica.jpg\" width=\"200\">\n",
    "\n",
    "\n",
    "The dataset contains contains measurments of four characteristics:  sepal length, sepal width, petal length, petal width.  \n",
    "Altogether there are measurments for 150 iris plants, 50 from each species.  Each plant corresponds to a row in the matrix.\n",
    "The data is thus a matrix of size $150 \\times 5$, where the first four columns contain the measurments, and the last column indicates which iris species a sample belongs to."
   ]
  },
  {
   "cell_type": "code",
   "execution_count": 2,
   "metadata": {},
   "outputs": [],
   "source": [
    "url = 'https://archive.ics.uci.edu/ml/machine-learning-databases/iris/iris.data'\n",
    "# since the data mixes strings and numbers we first read it as an\n",
    "# array of strings\n",
    "iris = np.genfromtxt(url, delimiter=',', dtype=str)\n",
    "columns = ('sepallength', 'sepalwidth', 'petallength', 'petalwidth', 'species')\n",
    "# next, extract the measurments as an array of floating point numbers\n",
    "data = iris[:, 0:4].astype('float')\n",
    "# the spcies information is contained in the last column:\n",
    "species = iris[:, 4]"
   ]
  },
  {
   "cell_type": "code",
   "execution_count": 3,
   "metadata": {},
   "outputs": [
    {
     "data": {
      "text/plain": [
       "array(['Iris-setosa', 'Iris-versicolor', 'Iris-virginica'], dtype='<U15')"
      ]
     },
     "execution_count": 3,
     "metadata": {},
     "output_type": "execute_result"
    }
   ],
   "source": [
    "# verify that the labels correspond to the three species names:\n",
    "np.unique(species)"
   ]
  },
  {
   "cell_type": "markdown",
   "metadata": {},
   "source": [
    "Using this data compute the following:"
   ]
  },
  {
   "cell_type": "markdown",
   "metadata": {},
   "source": [
    "* Write code that verifies that each species has 50 samples associated with it."
   ]
  },
  {
   "cell_type": "code",
   "execution_count": null,
   "metadata": {},
   "outputs": [],
   "source": []
  },
  {
   "cell_type": "markdown",
   "metadata": {},
   "source": [
    "* How many iris plants have sepal length that is greater than 6cm?"
   ]
  },
  {
   "cell_type": "code",
   "execution_count": null,
   "metadata": {},
   "outputs": [],
   "source": []
  },
  {
   "cell_type": "markdown",
   "metadata": {},
   "source": [
    "* We would like to see if there are any differences between the three iris species.  Compare the average of each of the four characteristics of iris plants collected in the data (sepal length, sepal width, petal length, petal width) for the three iris species.  Use `np.mean` to compute the average.  Based on the averages you computed, which characteristics best distinguish between the species?"
   ]
  },
  {
   "cell_type": "code",
   "execution_count": null,
   "metadata": {},
   "outputs": [],
   "source": []
  },
  {
   "cell_type": "markdown",
   "metadata": {},
   "source": [
    "* To provide further evidence for your observation from above, plot a histogram of sepal length, separately for each iris species.  The code below illustrates how to do so on artificially generated data.  How does the histogram allow you to address the question about usefulness of the different iris characteristics for distinguishing between iris species?  What does it specifically tell you about the relevance of sepal length?"
   ]
  },
  {
   "cell_type": "code",
   "execution_count": 7,
   "metadata": {},
   "outputs": [
    {
     "data": {
      "image/png": "[encoded data removed]",
      "text/plain": [
       "<Figure size 432x288 with 1 Axes>"
      ]
     },
     "metadata": {
      "needs_background": "light"
     },
     "output_type": "display_data"
    }
   ],
   "source": [
    "import matplotlib.pylab as plt\n",
    "\n",
    "mu = 100\n",
    "sigma = 15\n",
    "x1 = mu + sigma * np.random.randn(100000)\n",
    "x2 = mu + 25 + sigma * np.random.randn(100000)\n",
    "x3 = mu + 40 + sigma/2 * np.random.randn(100000)\n",
    "num_bins = 50\n",
    "plt.hist(x1, num_bins, facecolor='green', alpha=0.4, \n",
    "         density=True, label='hist 1');\n",
    "plt.hist(x2, num_bins, facecolor='blue', alpha=0.4, \n",
    "         density=True, label='hist 2');\n",
    "plt.hist(x3, num_bins, facecolor='red', alpha=0.4, \n",
    "         density=True, label='hist 3');\n",
    "plt.xlabel('measurment',fontsize=12);\n",
    "plt.ylabel('normalized counts', fontsize=12);\n",
    "\n",
    "plt.legend(loc='upper left', fontsize='12');"
   ]
  },
  {
   "cell_type": "code",
   "execution_count": null,
   "metadata": {},
   "outputs": [],
   "source": [
    "# your code here"
   ]
  },
  {
   "cell_type": "markdown",
   "metadata": {},
   "source": [
    "*and your analysis of the results*"
   ]
  },
  {
   "cell_type": "markdown",
   "metadata": {},
   "source": [
    "## Part 2:  array intersection\n",
    "\n",
    "Write a NumPy function that computes the intersection (i.e. the elements in common) of two NumPy one-dimensional arrays **without using for loops**.  You can assume that there are no repeated values in each of the two input arrays.  Include code that verifies that your code works correctly.  For code verification, you can use the Python `set` data structure and its intersection method.\n",
    "\n",
    "For example, the result of applying `intersection` to the arrays `[1,2,5,6]` and `[2,3,5,7]` should be the array that contains `[2,5]`."
   ]
  },
  {
   "cell_type": "code",
   "execution_count": 15,
   "metadata": {},
   "outputs": [],
   "source": [
    "def intersection(a, b) :\n",
    "    return np.array([1,2,3])\n"
   ]
  },
  {
   "cell_type": "code",
   "execution_count": null,
   "metadata": {},
   "outputs": [],
   "source": [
    "# code for testing your implementation of intersection"
   ]
  },
  {
   "cell_type": "markdown",
   "metadata": {},
   "source": [
    "*Caveat:*  You need to implement this from scratch without using any NumPy built-in functions like `intersect1d` `in1d` and `unique`.\n",
    "For your solution use the following approach:\n",
    "\n",
    "* Concatenate the two arrays using [np.concatenate](https://numpy.org/doc/stable/reference/generated/numpy.concatenate.html).\n",
    "* Sort the resulting array using [np.sort](https://numpy.org/doc/stable/reference/generated/numpy.sort.html).\n",
    "* How does the sorted array look like?  How can you now recognize values that are present in both arrays?"
   ]
  },
  {
   "cell_type": "markdown",
   "metadata": {},
   "source": [
    "## Part 3:  Feature selection for machine learning\n",
    "\n",
    "### Preliminaries\n",
    "\n",
    "In [data classification](https://en.wikipedia.org/wiki/Statistical_classification), which is a primary area of machine learning, the data scientist is given a matrix whose rows represent instances that need to classified into one of several classes, and a set of labels that tell which class each data point belongs to.  This is the same setup you had for the iris dataset from assignment 1.\n",
    "\n",
    "Next, we introduce some notation: we work with a dataset of $N$ labeled examples.  Each labeled example is a pair\n",
    "$(\\mathbf{x}_i, y_i)$, where $\\mathbf{x}_i$ is a $d$-dimensional vector (we use boldface to denote vectors), and $y_i$ is the label associated with $\\mathbf{x}_i$.  In a binary classification problem we'll use the values $\\pm 1$ or $\\{0,1\\}$ to denote the labels.\n",
    "In the data we use below, we will use the values $\\pm 1$; those vectors associated with the label $+1$ are called *positive examples*, and those associated with a label $-1$ are called *negative examples*.\n",
    "The data points can be stacked together to form an $N \\times d$ matrix $X$, where row $i$ is the data vector $\\mathbf{x}_i$.\n",
    "The columns of the data matrix $X$ are called *features*.\n",
    "Let's demonstrate the idea with the iris dataset, focusing on the sepal width/length features and two of the three species:\n"
   ]
  },
  {
   "cell_type": "code",
   "execution_count": 15,
   "metadata": {},
   "outputs": [
    {
     "data": {
      "image/png": "[encoded data removed]",
      "text/plain": [
       "<Figure size 640x480 with 1 Axes>"
      ]
     },
     "metadata": {},
     "output_type": "display_data"
    }
   ],
   "source": [
    "import numpy as np\n",
    "url = 'https://archive.ics.uci.edu/ml/machine-learning-databases/iris/iris.data'\n",
    "# since the data mixes strings and numbers we first read it as an\n",
    "# array of strings\n",
    "iris = np.genfromtxt(url, delimiter=',', dtype=str)\n",
    "columns = ('sepallength', 'sepalwidth', 'petallength', 'petalwidth', 'species')\n",
    "# next, extract the measurments as an array of floating point numbers\n",
    "# and focus on the first two features:\n",
    "X = iris[:100, :2].astype('float')\n",
    "# the spcies information is contained in the last column:\n",
    "y = iris[:100, 4]\n",
    "\n",
    "# a scatter plot:\n",
    "import matplotlib.pylab as plt\n",
    "plt.plot(X[:50, 0], X[:50, 1], 'ob', alpha=0.3)\n",
    "plt.plot(np.mean(X[:50, 0]), np.mean(X[:50, 1]), 'or', markersize=25, alpha=0.5)\n",
    "\n",
    "plt.plot(X[50:, 0], X[50:, 1], 'ok', alpha=0.3)\n",
    "plt.plot(np.mean(X[50:, 0]), np.mean(X[50:, 1]), 'or', markersize=25, alpha=0.5);"
   ]
  },
  {
   "cell_type": "markdown",
   "metadata": {},
   "source": [
    "It's clear that for this pair of species, this pair of features would enable us to clearly distinguish between the two species.\n",
    "To quantify the differences across species we consider the means of each class, plotted using the large red dots.\n",
    "Here, we observe that that the two features are different in their means, which we will use below as a way to evaluate the usefulness of a feature.\n",
    "\n",
    "While for the iris dataset all the features are useful, we may not be so lucky in general:\n",
    "Your data might contain noisy features that are not useful for the task of discriminating between the two classes.\n",
    "Therefore, it is often a good idea to remove such irrelevant/noisy features. \n",
    "One way to do so is to define a score that reflects the usefulness of a feature.\n",
    "We will do so based on the difference between the means of a feature across classes.\n",
    "The *Golub score* builds on that idea.  The Golub score $s_j$ for feature $j$ is defined as:\n",
    "\n",
    "\\begin{equation}\n",
    "s_j = \\frac{|\\mu_j^+ - \\mu_j^-|}{\\sigma_j^+ + \\sigma_j^-},\n",
    "\\end{equation}\n",
    "\n",
    "where $\\mu_j^+$ is the average of feature $j$ among the positive examples, and $\\sigma_j^+$ is the standard deviation of the positive examples.  $\\mu_j^-$ and $\\sigma_j^-$ are defined analogously for the negative examples.  Finally, $|x|$ is the absolute value of $x$.\n",
    "This score captures the intuition that a feature is useful if it has a different mean between the two classes.  Dividing by the standard deviation is a way of \"normalizing\" the scores to make them comparable for different features.\n",
    "The method was described in the following publication:\n",
    "\n",
    "* Golub, T.R., et al. Molecular classifiation of cancer: class discovery and class prediction by gene expression monitoring. Science 286 (1999) 531-537.\n",
    "\n",
    "In this question you will look at gene expression data from the yeast *S. cerevisiea*.\n",
    "Each row in the matrix has values that indicate how a particular gene in yeast behaves under different conditions.\n",
    "More specifically, element $i,j$ indicates how much genetic material from gene $i$ is being produced at the RNA level in condition $j$.\n",
    "Overall, there are 524 genes that were tested under 79 different conditions.\n",
    "The labels indicate whether a given gene has a particular molecular function.\n",
    "This dataset is one of the earliest datasets that were used in order to demonstrate that groups of genes can be characterized by this kind of data.  The original dataset was published in:\n",
    "\n",
    "* Eisen, M., Spellman, P., Brown, P. and Botstein, D. (1998) Cluster analysis and display of genome-wide expression patterns. *Proc. Natl. Acad. Sci USA*, 95.\n",
    "\n",
    "Your task is as follows:\n",
    "\n",
    "* Using the code provided below read the dataset.  The labels are contained in the first column and the feature matrix is stored in the rest of the columns.  Separate the data into two variables:  a vector y which contains the labels, and a matrix X that contains the feature vectors.\n",
    "* Implement the Golub scoring method using NumPy, *without using any for loops* in a method called golub, which takes as input a feature matrix X and vector of labels y and returns a vector containing the golub scores for the dataset.\n",
    "\n",
    "To demonstrate the utility of the Golub score, we will add random features to the dataset and apply the Golub method to it.  We expect that the added noise features will be filtered out.  \n",
    "\n",
    "* Add 100 noise features to the matrix X.  Use the NumPy [standard_normal](https://numpy.org/doc/stable/reference/random/generated/numpy.random.Generator.standard_normal.html) function to add noise features with a Gaussian distribution.\n",
    "* Apply the Golub scoring method to the data, and choose the top 20 scoring features.  Determine how many of the noise features you were able to remove using this technique.\n",
    "\n",
    "NumPy has methods for sorting arrays that would be useful for this assignment.  The [argsort](https://docs.scipy.org/doc/numpy/reference/generated/numpy.argsort.html) function should be particularly useful.  You can also use [np.std](https://numpy.org/doc/stable/reference/generated/numpy.std.html) to compute the standard deviation of the data.\n",
    "\n",
    "Below are functions that you will need to write for this task:"
   ]
  },
  {
   "cell_type": "code",
   "execution_count": 1,
   "metadata": {},
   "outputs": [],
   "source": [
    "\n",
    "def golub(X, y) :\n",
    "    \"\"\"Compute the golub score.\n",
    "    \n",
    "    Parameters:\n",
    "        X: the feature data matrix\n",
    "        y: the labels associated with X\n",
    "        y is a vector whose length equals the number of rows of X.\n",
    "    \n",
    "    Returns:\n",
    "        scores:  a vector whose length equals the number of columns of X, i.e.\n",
    "        len(scores) == len(X[0])\n",
    "    \"\"\"\n",
    "    pass\n",
    "\n",
    "\n",
    "def highest_scoring(scores, num_features):\n",
    "    \"\"\"Return indices of the highest scoring features according to \n",
    "    a given array of scores of their relevance.\n",
    "    \n",
    "    Parameters:\n",
    "        scores: a 1d array that describes the utility of the \n",
    "        given features, computed e.g. using the golub score\n",
    "        num_features: the number of top scoring features\n",
    "    \n",
    "    Returns:\n",
    "        array containing the indices of the highest scoring \n",
    "        num_features as a 1d array\n",
    "    \"\"\"\n",
    "    pass\n",
    "\n",
    "def select_features(X, features) :\n",
    "    \"\"\"Select the given set of features from the provided data matrix.\n",
    "    \n",
    "    Parameters:\n",
    "        X: the feature matrix\n",
    "        features: the indices of the features that are to be kept \n",
    "        these are columns of the feature matrix.\n",
    "    \n",
    "    Returns:\n",
    "        X_new: the data matrix that includes only the selected features.\n",
    "    \"\"\"\n",
    "    pass\n"
   ]
  },
  {
   "cell_type": "markdown",
   "metadata": {},
   "source": [
    "When using the code on a feature matrix $X$ and label of vectors $y$ we might proceed as follows:\n",
    "\n",
    "```Python\n",
    "scores = golub(X, y)\n",
    "highest_scoring_features = highest_scoring(scores, 20)\n",
    "X_new = select_features(X, highest_scoring_features)\n",
    "```\n",
    "\n",
    "First we will read in the data as a NumPy array.\n",
    "The following commands will read the data directly from the web into a NumPy array.  Use that array for the rest of the analysis.\n",
    "Recall that the labels are in the first column."
   ]
  },
  {
   "cell_type": "code",
   "execution_count": 3,
   "metadata": {},
   "outputs": [],
   "source": [
    "import numpy as np\n",
    "url = 'http://www.cs.colostate.edu/~asa/courses/dsci235/spr21/data/yeast2.txt'\n",
    "data = np.genfromtxt(url, delimiter=',')"
   ]
  },
  {
   "cell_type": "code",
   "execution_count": 2,
   "metadata": {},
   "outputs": [
    {
     "data": {
      "text/plain": [
       "(524, 80)"
      ]
     },
     "execution_count": 2,
     "metadata": {},
     "output_type": "execute_result"
    }
   ],
   "source": [
    "data.shape"
   ]
  },
  {
   "cell_type": "code",
   "execution_count": 4,
   "metadata": {},
   "outputs": [],
   "source": [
    "# first step: separate the data matrix into the feature matrix and labels \n",
    "# vector; the labels are in the first column of the data matrix that you\n",
    "# just read"
   ]
  },
  {
   "cell_type": "code",
   "execution_count": 5,
   "metadata": {},
   "outputs": [],
   "source": [
    "# add 100 noise features to the data matrix, i.e. add 100 columns"
   ]
  },
  {
   "cell_type": "code",
   "execution_count": 6,
   "metadata": {},
   "outputs": [],
   "source": [
    "# determine the top 20 features according to the golub score"
   ]
  },
  {
   "cell_type": "code",
   "execution_count": 7,
   "metadata": {},
   "outputs": [],
   "source": [
    "# write code that checks if feature selection was successful:\n",
    "# determine how many of the noise features were removed"
   ]
  },
  {
   "cell_type": "code",
   "execution_count": null,
   "metadata": {},
   "outputs": [],
   "source": []
  },
  {
   "cell_type": "markdown",
   "metadata": {},
   "source": [
    "### Submission\n",
    "\n",
    "Submit your assignment as a Jupyter notebook via Canvas.  \n",
    "\n",
    "### Grading \n",
    "\n",
    "Here is a draft of the grading sheet for this assignment. \n",
    "\n",
    "```\n",
    "Grading sheet for assignment 4\n",
    "\n",
    "Part 1:  The iris data (35 pts)\n",
    "  Data verification (5 pts)\n",
    "  Sepal length (10 pts)\n",
    "  Species differences (10 pts)\n",
    "  Histograms (10 pts)\n",
    "  \n",
    "Part 2:  array intersection (15 pts)\n",
    "\n",
    "Part 3:  feature selection (50 pts) \n",
    "  Golub score correctly computed  20 pts\n",
    "  highest_scoring correctly implemented  10 pts\n",
    "  select_features correctly implemented  10 pts\n",
    "  random features added correctly 5 pts\n",
    "  Computing Golub score on the given data and demonstrating its\n",
    "  effectiveness  5 pts\n",
    "```\n",
    "\n",
    "Throughout the course, use of for loops is discouraged.  **Points will be taken off for using for loops to iterate over an array.**  NumPy provides tools for accomplishing things without the need for Python loops.\n"
   ]
  }
 ],
 "metadata": {
  "kernelspec": {
   "display_name": "Python 3 (ipykernel)",
   "language": "python",
   "name": "python3"
  },
  "language_info": {
   "codemirror_mode": {
    "name": "ipython",
    "version": 3
   },
   "file_extension": ".py",
   "mimetype": "text/x-python",
   "name": "python",
   "nbconvert_exporter": "python",
   "pygments_lexer": "ipython3",
   "version": "3.11.7"
  }
 },
 "nbformat": 4,
 "nbformat_minor": 4
}
