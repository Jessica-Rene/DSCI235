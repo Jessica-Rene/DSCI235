{
 "cells": [
  {
   "cell_type": "markdown",
   "metadata": {},
   "source": [
    "# Assignment 1:  data analysis with pandas\n",
    "<span style=\"color: pink;\">Jessica Reyes</span> \n",
    "\n",
    "Note:  in this assignment do not use pandas functionality that we haven't covered in class unless explicitly suggested.\n",
    "\n",
    "## Part 1: tipping data\n",
    "\n",
    "Your task is to analyze data related to tipping at restaurants.\n",
    "\n",
    "First we'll read the data into a pandas data frame:"
   ]
  },
  {
   "cell_type": "code",
   "execution_count": 4,
   "metadata": {},
   "outputs": [],
   "source": [
    "import pandas as pd\n",
    "import numpy as np\n",
    "import matplotlib.pyplot as plt"
   ]
  },
  {
   "cell_type": "code",
   "execution_count": 5,
   "metadata": {},
   "outputs": [
    {
     "data": {
      "text/html": [
       "<div>\n",
       "<style scoped>\n",
       "    .dataframe tbody tr th:only-of-type {\n",
       "        vertical-align: middle;\n",
       "    }\n",
       "\n",
       "    .dataframe tbody tr th {\n",
       "        vertical-align: top;\n",
       "    }\n",
       "\n",
       "    .dataframe thead th {\n",
       "        text-align: right;\n",
       "    }\n",
       "</style>\n",
       "<table border=\"1\" class=\"dataframe\">\n",
       "  <thead>\n",
       "    <tr style=\"text-align: right;\">\n",
       "      <th></th>\n",
       "      <th>total_bill</th>\n",
       "      <th>tip</th>\n",
       "      <th>sex</th>\n",
       "      <th>smoker</th>\n",
       "      <th>day</th>\n",
       "      <th>time</th>\n",
       "      <th>size</th>\n",
       "    </tr>\n",
       "  </thead>\n",
       "  <tbody>\n",
       "    <tr>\n",
       "      <th>0</th>\n",
       "      <td>16.99</td>\n",
       "      <td>1.01</td>\n",
       "      <td>Female</td>\n",
       "      <td>No</td>\n",
       "      <td>Sun</td>\n",
       "      <td>Dinner</td>\n",
       "      <td>2</td>\n",
       "    </tr>\n",
       "    <tr>\n",
       "      <th>1</th>\n",
       "      <td>10.34</td>\n",
       "      <td>1.66</td>\n",
       "      <td>Male</td>\n",
       "      <td>No</td>\n",
       "      <td>Sun</td>\n",
       "      <td>Dinner</td>\n",
       "      <td>3</td>\n",
       "    </tr>\n",
       "    <tr>\n",
       "      <th>2</th>\n",
       "      <td>21.01</td>\n",
       "      <td>3.50</td>\n",
       "      <td>Male</td>\n",
       "      <td>No</td>\n",
       "      <td>Sun</td>\n",
       "      <td>Dinner</td>\n",
       "      <td>3</td>\n",
       "    </tr>\n",
       "    <tr>\n",
       "      <th>3</th>\n",
       "      <td>23.68</td>\n",
       "      <td>3.31</td>\n",
       "      <td>Male</td>\n",
       "      <td>No</td>\n",
       "      <td>Sun</td>\n",
       "      <td>Dinner</td>\n",
       "      <td>2</td>\n",
       "    </tr>\n",
       "    <tr>\n",
       "      <th>4</th>\n",
       "      <td>24.59</td>\n",
       "      <td>3.61</td>\n",
       "      <td>Female</td>\n",
       "      <td>No</td>\n",
       "      <td>Sun</td>\n",
       "      <td>Dinner</td>\n",
       "      <td>4</td>\n",
       "    </tr>\n",
       "  </tbody>\n",
       "</table>\n",
       "</div>"
      ],
      "text/plain": [
       "   total_bill   tip     sex smoker  day    time  size\n",
       "0       16.99  1.01  Female     No  Sun  Dinner     2\n",
       "1       10.34  1.66    Male     No  Sun  Dinner     3\n",
       "2       21.01  3.50    Male     No  Sun  Dinner     3\n",
       "3       23.68  3.31    Male     No  Sun  Dinner     2\n",
       "4       24.59  3.61  Female     No  Sun  Dinner     4"
      ]
     },
     "execution_count": 5,
     "metadata": {},
     "output_type": "execute_result"
    }
   ],
   "source": [
    "data_url = \"https://github.com/mwaskom/seaborn-data/raw/master/tips.csv\"\n",
    "data = pd.read_csv(data_url)\n",
    "data.head()"
   ]
  },
  {
   "cell_type": "markdown",
   "metadata": {},
   "source": [
    "The information provided in this data includes the following:  \n",
    "\n",
    "* **total_bill** - the bill before tip\n",
    "* **tip** - amount paid as tip\n",
    "* **sex** - the gender of the person paying the bill\n",
    "* **smoker** - whether the person paying the bill is a smoker\n",
    "* **day** - day of the week\n",
    "* **time** - whether the meal was \"Lunch\" or \"Dinner\".\n",
    "* **size** - how many people were part of the party\n",
    "\n",
    "In this part of the assignment we will look for tendencies of people when tipping.\n",
    "\n",
    "Here are your tasks:"
   ]
  },
  {
   "cell_type": "markdown",
   "metadata": {},
   "source": [
    "#### Tip amount\n",
    "\n",
    "* Compare the avergae tip amount between lunch and dinner.  Use the `mean()` method of a `Series/DataFrame`.  In which meal do you observe a larger tip?"
   ]
  },
  {
   "cell_type": "code",
   "execution_count": 6,
   "metadata": {},
   "outputs": [
    {
     "name": "stdout",
     "output_type": "stream",
     "text": [
      "Lunch:  2.73\n",
      "Dinner:  3.1\n",
      "Dinner has the larger tips!\n"
     ]
    }
   ],
   "source": [
    "# average tip amount for lunch vs dinner\n",
    "mean_lunch = data[data['time'] == 'Lunch']['tip'].mean()\n",
    "mean_dinner = data[data['time'] == 'Dinner']['tip'].mean()\n",
    "print('Lunch: ', round(mean_lunch,2))\n",
    "print('Dinner: ', round(mean_dinner,2))\n",
    "print('Dinner has the larger tips!')"
   ]
  },
  {
   "cell_type": "markdown",
   "metadata": {},
   "source": [
    "#### Tip percentage\n",
    "\n",
    "* You should observe a larger tip amount for dinner.  However, is this really the right question to ask?  Dinners tend to cost more, so it is to be expected that the tip amount will be larger.  But is the tip percentage much different?  To answer this question, add another column called `tip_percentage` to the ``DataFrame`` which contains the tip percentage (tip amount / total_bill) * 100.  With that added information, what were the smallest and largest tip percentages?  Use the `min` and `max` method to determine that."
   ]
  },
  {
   "cell_type": "code",
   "execution_count": 7,
   "metadata": {},
   "outputs": [
    {
     "name": "stdout",
     "output_type": "stream",
     "text": [
      "Min:  3.56\n",
      "Max:  71.03\n"
     ]
    }
   ],
   "source": [
    "# add tip percentage column and determine min / max amounts\n",
    "data['tip_percentage'] = data['tip'] / data['total_bill']\n",
    "min_tip = data['tip_percentage'].min()\n",
    "max_tip = data['tip_percentage'].max()\n",
    "print('Min: ', round(min_tip*100,2))\n",
    "print('Max: ', round(max_tip*100,2))"
   ]
  },
  {
   "cell_type": "markdown",
   "metadata": {},
   "source": [
    "#### Tip percentage in lunch vs dinner \n",
    "\n",
    "* Next, compare the average tip percentage between lunch and dinner.  You should observe a pretty small difference."
   ]
  },
  {
   "cell_type": "code",
   "execution_count": 8,
   "metadata": {},
   "outputs": [
    {
     "name": "stdout",
     "output_type": "stream",
     "text": [
      "time\n",
      "Dinner    15.951779\n",
      "Lunch     16.412793\n",
      "Name: tip_percentage, dtype: float64\n"
     ]
    }
   ],
   "source": [
    "# average tip percentage for lunch vs dinner\n",
    "avg_tip_percentage = data.groupby('time')['tip_percentage'].mean()\n",
    "print(avg_tip_percentage*100)"
   ]
  },
  {
   "cell_type": "markdown",
   "metadata": {},
   "source": [
    "#### Tip by gender\n",
    "\n",
    "* Compare the average tip percentage given by gender.  Also create a histogram that compares the distribution of tips given across genders.\n",
    "DataFrames have a [histogram](https://pandas.pydata.org/pandas-docs/stable/reference/api/pandas.DataFrame.hist.html) method for this task."
   ]
  },
  {
   "cell_type": "code",
   "execution_count": 13,
   "metadata": {},
   "outputs": [
    {
     "name": "stdout",
     "output_type": "stream",
     "text": [
      "sex\n",
      "Female    16.649074\n",
      "Male      15.765055\n",
      "Name: tip_percentage, dtype: float64\n"
     ]
    },
    {
     "data": {
      "image/png": "[encoded data removed]",
      "text/plain": [
       "<Figure size 640x480 with 2 Axes>"
      ]
     },
     "metadata": {},
     "output_type": "display_data"
    }
   ],
   "source": [
    "# average tip by gender\n",
    "avg_tip_gender = data.groupby('sex')['tip_percentage'].mean()\n",
    "print(avg_tip_gender*100)\n",
    "histograms = data.hist(column='tip_percentage', by='sex')"
   ]
  },
  {
   "cell_type": "markdown",
   "metadata": {},
   "source": [
    "## Part 2:  baby names in Colorado\n",
    "\n",
    "The US Social Security Administration has been keeping track of baby names in the US since the late 1800's.  In this part of the assignment we will track some trends in this data.\n",
    "This data is collected from applications for social security cards; the original version is available [here](https://catalog.data.gov/dataset/baby-names-from-social-security-card-applications-national-data).  We will use a smaller subset of data found below.\n",
    "\n",
    "We'll focus on data collected in Colorado from 1910.  The first few lines of the data file are as follows:\n",
    "\n",
    "```\n",
    "CO,F,1910,Mary,193\n",
    "CO,F,1910,Helen,112\n",
    "CO,F,1910,Dorothy,87\n",
    "CO,F,1910,Ruth,68\n",
    "CO,F,1910,Margaret,67\n",
    "```\n",
    "\n",
    "The first column specifies the state (Colorado), the second column is the gender (F/M), the third column is the year (1910-2018), and the last column is the count of Colorado babies that were given that name during that year.\n",
    "\n",
    "First, let's load the data straight into the Jupyter notebook:"
   ]
  },
  {
   "cell_type": "markdown",
   "metadata": {},
   "source": [
    "#### Reading in the data\n",
    "\n",
    "We'll use the pandas `read_csv` function to read the data:"
   ]
  },
  {
   "cell_type": "code",
   "execution_count": 10,
   "metadata": {},
   "outputs": [
    {
     "data": {
      "text/html": [
       "<div>\n",
       "<style scoped>\n",
       "    .dataframe tbody tr th:only-of-type {\n",
       "        vertical-align: middle;\n",
       "    }\n",
       "\n",
       "    .dataframe tbody tr th {\n",
       "        vertical-align: top;\n",
       "    }\n",
       "\n",
       "    .dataframe thead th {\n",
       "        text-align: right;\n",
       "    }\n",
       "</style>\n",
       "<table border=\"1\" class=\"dataframe\">\n",
       "  <thead>\n",
       "    <tr style=\"text-align: right;\">\n",
       "      <th></th>\n",
       "      <th>CO</th>\n",
       "      <th>F</th>\n",
       "      <th>1910</th>\n",
       "      <th>Mary</th>\n",
       "      <th>193</th>\n",
       "    </tr>\n",
       "  </thead>\n",
       "  <tbody>\n",
       "    <tr>\n",
       "      <th>0</th>\n",
       "      <td>CO</td>\n",
       "      <td>F</td>\n",
       "      <td>1910</td>\n",
       "      <td>Helen</td>\n",
       "      <td>112</td>\n",
       "    </tr>\n",
       "    <tr>\n",
       "      <th>1</th>\n",
       "      <td>CO</td>\n",
       "      <td>F</td>\n",
       "      <td>1910</td>\n",
       "      <td>Dorothy</td>\n",
       "      <td>87</td>\n",
       "    </tr>\n",
       "    <tr>\n",
       "      <th>2</th>\n",
       "      <td>CO</td>\n",
       "      <td>F</td>\n",
       "      <td>1910</td>\n",
       "      <td>Ruth</td>\n",
       "      <td>68</td>\n",
       "    </tr>\n",
       "    <tr>\n",
       "      <th>3</th>\n",
       "      <td>CO</td>\n",
       "      <td>F</td>\n",
       "      <td>1910</td>\n",
       "      <td>Margaret</td>\n",
       "      <td>67</td>\n",
       "    </tr>\n",
       "    <tr>\n",
       "      <th>4</th>\n",
       "      <td>CO</td>\n",
       "      <td>F</td>\n",
       "      <td>1910</td>\n",
       "      <td>Frances</td>\n",
       "      <td>56</td>\n",
       "    </tr>\n",
       "  </tbody>\n",
       "</table>\n",
       "</div>"
      ],
      "text/plain": [
       "   CO  F  1910      Mary  193\n",
       "0  CO  F  1910     Helen  112\n",
       "1  CO  F  1910   Dorothy   87\n",
       "2  CO  F  1910      Ruth   68\n",
       "3  CO  F  1910  Margaret   67\n",
       "4  CO  F  1910   Frances   56"
      ]
     },
     "execution_count": 10,
     "metadata": {},
     "output_type": "execute_result"
    }
   ],
   "source": [
    "data_url = 'https://www.cs.colostate.edu/~asa/courses/dsci235/spr21/data/co.txt'\n",
    "names = pd.read_csv(data_url)\n",
    "names.head()"
   ]
  },
  {
   "cell_type": "markdown",
   "metadata": {},
   "source": [
    "As you can see, this does not give the desired result:  the first row was interpreted as the column names for this dataset.\n",
    "Modify the command so that the first row is read correctly and columns are given the following descriptive names: 'state', 'gender', 'year', 'name', and 'count'.\n",
    "You can refer to the [read_csv](https://pandas.pydata.org/pandas-docs/stable/reference/api/pandas.read_csv.html) documentation on how to do that."
   ]
  },
  {
   "cell_type": "code",
   "execution_count": 11,
   "metadata": {},
   "outputs": [
    {
     "data": {
      "text/html": [
       "<div>\n",
       "<style scoped>\n",
       "    .dataframe tbody tr th:only-of-type {\n",
       "        vertical-align: middle;\n",
       "    }\n",
       "\n",
       "    .dataframe tbody tr th {\n",
       "        vertical-align: top;\n",
       "    }\n",
       "\n",
       "    .dataframe thead th {\n",
       "        text-align: right;\n",
       "    }\n",
       "</style>\n",
       "<table border=\"1\" class=\"dataframe\">\n",
       "  <thead>\n",
       "    <tr style=\"text-align: right;\">\n",
       "      <th></th>\n",
       "      <th>state</th>\n",
       "      <th>gender</th>\n",
       "      <th>year</th>\n",
       "      <th>name</th>\n",
       "      <th>count</th>\n",
       "    </tr>\n",
       "  </thead>\n",
       "  <tbody>\n",
       "    <tr>\n",
       "      <th>0</th>\n",
       "      <td>CO</td>\n",
       "      <td>F</td>\n",
       "      <td>1910</td>\n",
       "      <td>Mary</td>\n",
       "      <td>193</td>\n",
       "    </tr>\n",
       "    <tr>\n",
       "      <th>1</th>\n",
       "      <td>CO</td>\n",
       "      <td>F</td>\n",
       "      <td>1910</td>\n",
       "      <td>Helen</td>\n",
       "      <td>112</td>\n",
       "    </tr>\n",
       "    <tr>\n",
       "      <th>2</th>\n",
       "      <td>CO</td>\n",
       "      <td>F</td>\n",
       "      <td>1910</td>\n",
       "      <td>Dorothy</td>\n",
       "      <td>87</td>\n",
       "    </tr>\n",
       "    <tr>\n",
       "      <th>3</th>\n",
       "      <td>CO</td>\n",
       "      <td>F</td>\n",
       "      <td>1910</td>\n",
       "      <td>Ruth</td>\n",
       "      <td>68</td>\n",
       "    </tr>\n",
       "    <tr>\n",
       "      <th>4</th>\n",
       "      <td>CO</td>\n",
       "      <td>F</td>\n",
       "      <td>1910</td>\n",
       "      <td>Margaret</td>\n",
       "      <td>67</td>\n",
       "    </tr>\n",
       "  </tbody>\n",
       "</table>\n",
       "</div>"
      ],
      "text/plain": [
       "  state gender  year      name  count\n",
       "0    CO      F  1910      Mary    193\n",
       "1    CO      F  1910     Helen    112\n",
       "2    CO      F  1910   Dorothy     87\n",
       "3    CO      F  1910      Ruth     68\n",
       "4    CO      F  1910  Margaret     67"
      ]
     },
     "execution_count": 11,
     "metadata": {},
     "output_type": "execute_result"
    }
   ],
   "source": [
    "# code for reading the data into a DataFrame with columns named \n",
    "# appropriately\n",
    "data_url = 'https://www.cs.colostate.edu/~asa/courses/dsci235/spr21/data/co.txt'\n",
    "names = pd.read_csv(data_url, header=None, names=['state', 'gender', 'year', 'name', 'count'])\n",
    "names.head()"
   ]
  },
  {
   "cell_type": "markdown",
   "metadata": {},
   "source": [
    "#### Most popular name\n",
    "\n",
    "* What was the most popular male baby name in 2018?  What was the most popular female baby name in 2018?  You can use the method `idxmax`.\n"
   ]
  },
  {
   "cell_type": "code",
   "execution_count": 11,
   "metadata": {},
   "outputs": [
    {
     "name": "stdout",
     "output_type": "stream",
     "text": [
      "Male:  Liam\n",
      "Female:  Olivia\n"
     ]
    }
   ],
   "source": [
    "idmax_male = names[(names['year'] == 2018) & (names['gender'] == 'M')]['count'].idxmax()\n",
    "idmax_female = names[(names['year'] == 2018) & (names['gender'] == 'F')]['count'].idxmax()\n",
    "print('Male: ', names.iloc[idmax_male]['name'])\n",
    "print('Female: ', names.iloc[idmax_female]['name'])"
   ]
  },
  {
   "cell_type": "markdown",
   "metadata": {},
   "source": [
    "#### Top 5 most popular names\n",
    "\n",
    "* What were the five most popular baby names in 2018? You can use a DataFrame's `nlargest` or `sort_values` methods."
   ]
  },
  {
   "cell_type": "code",
   "execution_count": 12,
   "metadata": {},
   "outputs": [
    {
     "name": "stdout",
     "output_type": "stream",
     "text": [
      "       state gender  year     name  count\n",
      "106328    CO      M  2018     Liam    331\n",
      "58637     CO      F  2018   Olivia    325\n",
      "106329    CO      M  2018   Oliver    274\n",
      "106330    CO      M  2018  William    266\n",
      "58638     CO      F  2018     Emma    266\n"
     ]
    }
   ],
   "source": [
    "sort_values = names[(names['year'] == 2018)].sort_values(by='count', ascending=False)\n",
    "print(sort_values.head(5))"
   ]
  },
  {
   "cell_type": "markdown",
   "metadata": {},
   "source": [
    "#### Unisex names\n",
    "\n",
    "* First, let's define a name as being *popular* if its count is above some threshold.\n",
    "Find names that are popular in both genders in the same year.\n",
    "Compute this for names given in 2018, and use a threshold of 30 to define popularity.  As a hint, on ways to solve this, the pandas [isin](https://pandas.pydata.org/docs/reference/api/pandas.DataFrame.isin.html) or [duplicated](https://pandas.pydata.org/docs/reference/api/pandas.DataFrame.duplicated.html) DataFrame methods can be used for this task (think how they might be useful!) "
   ]
  },
  {
   "cell_type": "code",
   "execution_count": 13,
   "metadata": {},
   "outputs": [
    {
     "name": "stdout",
     "output_type": "stream",
     "text": [
      "       state gender  year     name  count\n",
      "58734     CO      F  2018  Emerson     51\n",
      "58741     CO      F  2018  Charlie     47\n",
      "58765     CO      F  2018    Rowan     42\n",
      "58796     CO      F  2018   Parker     34\n",
      "58808     CO      F  2018    Blake     31\n",
      "106421    CO      M  2018    Rowan     75\n",
      "106450    CO      M  2018   Parker     55\n",
      "106517    CO      M  2018  Emerson     35\n",
      "106523    CO      M  2018  Charlie     34\n",
      "106538    CO      M  2018    Blake     31\n"
     ]
    }
   ],
   "source": [
    "popular_names = names[(names['year'] == 2018) & (names['count'] > 30)]\n",
    "popular_names_male = popular_names[popular_names['gender'] == 'M']\n",
    "popular_names_female = popular_names[popular_names['gender'] == 'F']\n",
    "unisex_names = popular_names[popular_names['name'].isin(popular_names_male['name']) & \n",
    "                             popular_names['name'].isin(popular_names_female['name'])]\n",
    "\n",
    "print(unisex_names)"
   ]
  },
  {
   "cell_type": "markdown",
   "metadata": {},
   "source": [
    "#### Counts over time\n",
    "\n",
    "* Choose a unisex name and create a DataFrame that summarizes its count over time separately for males and females between 1910 and 2018.  Plot the data using the `plot` method of a DataFrame (see [DataFrame.plot](https://pandas.pydata.org/pandas-docs/stable/reference/api/pandas.DataFrame.plot.html) for details) or the Matplotlib [plot](https://matplotlib.org/stable/api/_as_gen/matplotlib.pyplot.plot.html) function.  Matplotlib offers more flexibility, and might help you more easily get the result you are looking for."
   ]
  },
  {
   "cell_type": "code",
   "execution_count": 14,
   "metadata": {},
   "outputs": [
    {
     "data": {
      "image/png": "[encoded data removed]",
      "text/plain": [
       "<Figure size 640x480 with 1 Axes>"
      ]
     },
     "metadata": {},
     "output_type": "display_data"
    }
   ],
   "source": [
    "from os import name\n",
    "selected_name = \"Parker\"\n",
    "name_data = names[(names['name'] == selected_name) & (names['year'] >= 1910) & (names['year'] <= 2018)]\n",
    "male_data = name_data[name_data['gender'] == 'M']\n",
    "female_data = name_data[name_data['gender'] == 'F'] \n",
    "plt.plot(male_data['year'], male_data['count'], label='Male')\n",
    "plt.plot(female_data['year'], female_data['count'], label='Female')\n",
    "plt.xlabel('Year')\n",
    "plt.ylabel('Count')\n",
    "plt.title(f'Count of {selected_name} over time')\n",
    "plt.legend()\n",
    "plt.show()"
   ]
  },
  {
   "cell_type": "markdown",
   "metadata": {},
   "source": [
    "#### Increase in popularity\n",
    "\n",
    "* Which name has shown the largest increase in popularity from 2017 to 2018?  Do this for both men and women.  This will require you to subtract two DataFrame or Series objects.  If a name is present in one year but not the other, this can lead to the appearance of `NaN`s.  To address this issue we suggest to use the [subtract](https://pandas.pydata.org/pandas-docs/stable/reference/api/pandas.DataFrame.subtract.html) method of a DataFrame/Series object.\n"
   ]
  },
  {
   "cell_type": "code",
   "execution_count": 15,
   "metadata": {},
   "outputs": [
    {
     "name": "stdout",
     "output_type": "stream",
     "text": [
      "('Nolan', 'M')\n",
      "('Olivia', 'F')\n"
     ]
    }
   ],
   "source": [
    "# increase in popularity\n",
    "names_2017 = names[names['year'] == 2017].groupby(['name', 'gender'])['count'].sum()\n",
    "names_2018 = names[names['year'] == 2018].groupby(['name', 'gender'])['count'].sum()\n",
    "increase = names_2018.subtract(names_2017, fill_value=0)\n",
    "max_increase = increase.idxmax()\n",
    "max_male_name = increase[increase.index.get_level_values('gender') == 'M'].idxmax()\n",
    "max_female_name = increase[increase.index.get_level_values('gender') == 'F'].idxmax()\n",
    "print(max_male_name)\n",
    "print(max_female_name)"
   ]
  },
  {
   "cell_type": "markdown",
   "metadata": {},
   "source": [
    "#### Earliest occurrence of a name\n",
    "\n",
    "* What year did \"Taylor\" make its first appearance as a female name?  As a male name?  You can use the fact that the file is sorted by year."
   ]
  },
  {
   "cell_type": "code",
   "execution_count": 16,
   "metadata": {},
   "outputs": [
    {
     "name": "stdout",
     "output_type": "stream",
     "text": [
      "Taylor female:  1981\n",
      "Taylor male:  1968\n"
     ]
    }
   ],
   "source": [
    "taylor_female = names[(names['name'] == 'Taylor') & (names['gender'] == 'F')]['year'].min()\n",
    "taylor_male = names[(names['name'] == 'Taylor') & (names['gender'] == 'M')]['year'].min()\n",
    "print('Taylor female: ', taylor_female)\n",
    "print('Taylor male: ', taylor_male)"
   ]
  },
  {
   "cell_type": "markdown",
   "metadata": {},
   "source": [
    "### Submission\n",
    "\n",
    "Submit your assignment as a Jupyter notebook via Canvas.  \n",
    "\n",
    "### Grading \n",
    "\n",
    "Here is what the grade sheet will look like for this assignment. \n",
    "\n",
    "```\n",
    "Grading sheet for assignment 1\n",
    "\n",
    "Tips data (40 pts)\n",
    "\n",
    "  Tip amount at lunch and dinner (10 pts)\n",
    "  Tip-percentage column (10 pts)\n",
    "  Comparison of tip percentage between lunch and dinner (10 pts)\n",
    "  Comparison of tip percentage by gender (10 pts)\n",
    "\n",
    "Baby names (60 pts)\n",
    "\n",
    "  Read the data and store it in a DataFrame (10 pts)\n",
    "  Most common baby name (5 pts)\n",
    "  Top 5 baby names (5 pts)\n",
    "  Unisex names (10 pts)\n",
    "  Counts over time (10 pts)\n",
    "  Increase in popularity (10 pts)\n",
    "  Earliest occurrence (10 pts)\n",
    "\n",
    "```\n",
    "\n",
    "Throughout the course, use of for loops is discouraged.  **Points will be taken off for using for loops unless explicitly allowed.**  pandas provides tools for accomplishing things without the need for Python loops.\n"
   ]
  }
 ],
 "metadata": {
  "kernelspec": {
   "display_name": "Python 3 (ipykernel)",
   "language": "python",
   "name": "python3"
  },
  "language_info": {
   "codemirror_mode": {
    "name": "ipython",
    "version": 3
   },
   "file_extension": ".py",
   "mimetype": "text/x-python",
   "name": "python",
   "nbconvert_exporter": "python",
   "pygments_lexer": "ipython3",
   "version": "3.11.11"
  }
 },
 "nbformat": 4,
 "nbformat_minor": 4
}
