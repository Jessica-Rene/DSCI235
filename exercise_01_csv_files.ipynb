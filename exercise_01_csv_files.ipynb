{
 "cells": [
  {
   "cell_type": "markdown",
   "metadata": {},
   "source": [
    "\n",
    "# Introductory exercises\n",
    "\n",
    "**Instructions:** Complete the exercises in this notebook and submit it via Canvas.  In all these exercises use pure Python without using any libraries.\n",
    "\n",
    "\n",
    "## Part 1:  working with CSV files\n",
    "\n",
    "CSV (comma separated values) is one of the basic formats for distributing data.  CSV files are used to represent data that is in the form of a matrix.  For example: \n",
    "\n",
    "\\begin{pmatrix}\n",
    "12 & 13 & 1\\\\\n",
    "3 & 5 & 2\n",
    "\\end{pmatrix}\n",
    "\n",
    "Let's create a CSV file that contains this matrix:"
   ]
  },
  {
   "cell_type": "code",
   "execution_count": 7,
   "metadata": {},
   "outputs": [],
   "source": [
    "data = \"\"\"12,13,1\n",
    "3,5,2\n",
    "\"\"\"\n",
    "file_handle = open(\"data.csv\", \"w\")\n",
    "file_handle.write(data)\n",
    "file_handle.close()"
   ]
  },
  {
   "cell_type": "markdown",
   "metadata": {},
   "source": [
    "The following will print the contents of the file (on a Windows machine use `!type` instead of `!cat`):"
   ]
  },
  {
   "cell_type": "code",
   "execution_count": 9,
   "metadata": {},
   "outputs": [
    {
     "name": "stdout",
     "output_type": "stream",
     "text": [
      "12,13,1\n",
      "3,5,2\n"
     ]
    }
   ],
   "source": [
    "!type data.csv"
   ]
  },
  {
   "cell_type": "markdown",
   "metadata": {},
   "source": [
    "### Reading a CSV file\n",
    "\n",
    "Write a function called `csv_read(file_name)` that reads the data stored in the given file and returns a matrix as a list-of-lists.  Given the above file if you read it using your function\n",
    "\n",
    "```python\n",
    "matrix = csv_read(\"data.csv\")\n",
    "```\n",
    "\n",
    "should give you the matrix\n",
    "\n",
    "```python\n",
    "[[12.0, 13.0, 1.0], [3.0, 5.0, 2.0]]\n",
    "```\n",
    "\n",
    "and\n",
    "\n",
    "```python\n",
    ">>> matrix[0]\n",
    "[12.0, 13.0, 1.0]\n",
    "```\n",
    "\n",
    "```python\n",
    ">>> matrix[1][2]\n",
    "2.0\n",
    "```"
   ]
  },
  {
   "cell_type": "code",
   "execution_count": 11,
   "metadata": {},
   "outputs": [],
   "source": [
    "def csv_read(file_name) :\n",
    "    try:\n",
    "        file_handle = open(file_name)   # file_name is the name of the file\n",
    "    except :\n",
    "        return -1\n",
    "    with file_handle :\n",
    "      matrix = []\n",
    "      for line in file_handle :\n",
    "        matrix.append(list(map(float, line.split(\",\"))))\n",
    "      return matrix"
   ]
  },
  {
   "cell_type": "markdown",
   "metadata": {},
   "source": [
    "The following won't do much until you provide an implementation for `csv_read`.  The Python `pass` keyword is a command that does nothing, and is a placeholder for your implementation."
   ]
  },
  {
   "cell_type": "code",
   "execution_count": 12,
   "metadata": {},
   "outputs": [
    {
     "name": "stdout",
     "output_type": "stream",
     "text": [
      "[[12.0, 13.0, 1.0], [3.0, 5.0, 2.0]]\n"
     ]
    }
   ],
   "source": [
    "matrix = csv_read(\"data.csv\")\n",
    "print(matrix)"
   ]
  },
  {
   "cell_type": "markdown",
   "metadata": {},
   "source": [
    "Some pointers to get you started:\n",
    "\n",
    "\n",
    "First, here's the Pythonic way of reading and processing a file:\n",
    "\n",
    "```Python\n",
    "    try: \n",
    "        file_handle = open(file_name)   # file_name is the name of the file\n",
    "    except :\n",
    "        return -1\n",
    "    with file_handle :\n",
    "        for line in file_handle :\n",
    "            # process each line\n",
    "```\n",
    "\n",
    "The `try-except` block takes care of the situation of a file name that does not correspond to an open-able file.\n",
    "More details on reading information from files is provided in the supplementary python_files notebook.\n",
    "\n",
    "For processing each line, we recommend using a string's [split](https://docs.python.org/3.7/library/stdtypes.html?highlight=split#str.split) method.\n",
    "To convert the string literals to floating point numbers use the `float` function."
   ]
  },
  {
   "cell_type": "markdown",
   "metadata": {},
   "source": [
    "### Operations on matrices\n",
    "\n",
    "As a second exercise, write two functions that return the sum of the elements in the rows/columns of the matrix:"
   ]
  },
  {
   "cell_type": "code",
   "execution_count": 15,
   "metadata": {},
   "outputs": [],
   "source": [
    "def sum_columns(matrix) :\n",
    "    \"\"\"\n",
    "    return a list where element i of the list contains the sum\n",
    "    of all elements in column i of the input matrix.\n",
    "    \n",
    "    for example, using the matrix [[12.0, 13.0, 1.0], [3.0, 5.0, 2.0]]\n",
    "    as input, should produce the return value [15.0, 18.0, 3.0]\n",
    "    \"\"\"\n",
    "    columns = []\n",
    "    for i in range(len(matrix[0])):\n",
    "        sum = 0\n",
    "        for j in range(len(matrix)):\n",
    "            sum += matrix[j][i]\n",
    "        columns.append(sum)\n",
    "    return [columns]\n",
    "\n",
    "def sum_rows(matrix) :\n",
    "    \"\"\"\n",
    "    return a list where element i of the list contains the sum\n",
    "    of all elements in row i of the input matrix.\n",
    "    \n",
    "    for example, using the matrix [[12.0, 13.0, 1.0], [3.0, 5.0, 2.0]]\n",
    "    as input, should produce the return value [26.0, 10.0]\n",
    "    \"\"\"\n",
    "    rows = []\n",
    "    for i in range(len(matrix)):\n",
    "        sum = 0\n",
    "        for j in range(len(matrix[0])):\n",
    "            sum += matrix[i][j]\n",
    "        rows.append(sum)\n",
    "    return [rows]"
   ]
  },
  {
   "cell_type": "code",
   "execution_count": 16,
   "metadata": {},
   "outputs": [
    {
     "name": "stdout",
     "output_type": "stream",
     "text": [
      "[[15.0, 18.0, 3.0]]\n",
      "[[26.0, 10.0]]\n"
     ]
    }
   ],
   "source": [
    "# code for verifying your implementation\n",
    "print(sum_columns(matrix))\n",
    "print(sum_rows(matrix))"
   ]
  },
  {
   "cell_type": "markdown",
   "metadata": {},
   "source": [
    "### CSV files in practice\n",
    "\n",
    "CSV files are so common that the Python standard library includes a module called `csv`.  Details are in the [Python documentation](https://docs.python.org/3/library/csv.html).  As a follow up, you can rewrite your `csv_read` function using the csv module.\n",
    "\n",
    "Reading CSV files is such a common task that there are other options in [NumPy](https://docs.scipy.org/doc/numpy/reference/generated/numpy.genfromtxt.html) and [pandas](https://pandas.pydata.org/pandas-docs/stable/reference/api/pandas.read_csv.html)."
   ]
  },
  {
   "cell_type": "markdown",
   "metadata": {},
   "source": [
    "## Part 2: Python lists: slicing and list comprehension"
   ]
  },
  {
   "cell_type": "markdown",
   "metadata": {},
   "source": [
    "**Slices** allow you to create sublists of existing lists.  \n",
    "\n",
    "The syntax for slicing is as follows:\n",
    "\n",
    "```Python\n",
    "sequence [start:stop[:step]]\n",
    "```\n",
    "\n",
    "start\n",
    "Optional. Starting index of the slice. Defaults to 0.\n",
    "stop\n",
    "Optional. The last index of the slice or the number of items to get. Defaults to len(sequence).\n",
    "step\n",
    "Optional. Extended slice syntax. Step value of the slice. Defaults to 1.\n",
    "\n",
    "For example:"
   ]
  },
  {
   "cell_type": "code",
   "execution_count": 18,
   "metadata": {},
   "outputs": [
    {
     "data": {
      "text/plain": [
       "[2, 3, 4, 5]"
      ]
     },
     "execution_count": 18,
     "metadata": {},
     "output_type": "execute_result"
    }
   ],
   "source": [
    "values = [1,2,3,4,5,6,7,8]\n",
    "values[1:5]"
   ]
  },
  {
   "cell_type": "markdown",
   "metadata": {},
   "source": [
    "Next, try out the following commands:\n",
    "\n",
    "```python\n",
    "values[1:3]  \n",
    "values[2:-1] \n",
    "values[:2]   \n",
    "values[2:]   \n",
    "values[::2] # the last value is the step/stride\n",
    "```"
   ]
  },
  {
   "cell_type": "code",
   "execution_count": 27,
   "metadata": {},
   "outputs": [
    {
     "data": {
      "text/plain": [
       "[2, 3]"
      ]
     },
     "execution_count": 27,
     "metadata": {},
     "output_type": "execute_result"
    }
   ],
   "source": [
    "values[1:3]"
   ]
  },
  {
   "cell_type": "code",
   "execution_count": 22,
   "metadata": {},
   "outputs": [
    {
     "data": {
      "text/plain": [
       "[3, 4, 5, 6, 7]"
      ]
     },
     "execution_count": 22,
     "metadata": {},
     "output_type": "execute_result"
    }
   ],
   "source": [
    "values[2:-1]"
   ]
  },
  {
   "cell_type": "code",
   "execution_count": 23,
   "metadata": {},
   "outputs": [
    {
     "data": {
      "text/plain": [
       "[1, 2]"
      ]
     },
     "execution_count": 23,
     "metadata": {},
     "output_type": "execute_result"
    }
   ],
   "source": [
    "values[:2]"
   ]
  },
  {
   "cell_type": "code",
   "execution_count": 33,
   "metadata": {},
   "outputs": [
    {
     "data": {
      "text/plain": [
       "[3, 4, 5, 6, 7, 8]"
      ]
     },
     "execution_count": 33,
     "metadata": {},
     "output_type": "execute_result"
    }
   ],
   "source": [
    "values[2:]"
   ]
  },
  {
   "cell_type": "code",
   "execution_count": 31,
   "metadata": {},
   "outputs": [
    {
     "data": {
      "text/plain": [
       "[1, 3, 5, 7]"
      ]
     },
     "execution_count": 31,
     "metadata": {},
     "output_type": "execute_result"
    }
   ],
   "source": [
    "values[::2]"
   ]
  },
  {
   "cell_type": "markdown",
   "metadata": {},
   "source": [
    "Based on your experiment answer the following:\n",
    "\n",
    "* What happens if you omit the start/end index?\n",
    "* What is the effect of using negative indices for the start or end index?\n",
    "* What is the effect of using a negative step/stride?"
   ]
  },
  {
   "cell_type": "markdown",
   "metadata": {},
   "source": [
    "*If you omit the start/end index, the slice will begin at the first element (index 0), and the slice will continue to the length of the sequence (by default).*<br>\n",
    "<br>\n",
    "*If you use negative indices for the start of the index, the slice position will be counted from the end of the sequence (values[-2:] will start from the 2nd to last element and only include the last 2 numbers of the index, [7,8] from the example above). If you use negative indices before the end of the index, the slice will stop just before the specified negative index (values[:-1] would stop at the 2nd to last value of the index and not include the last element [1, 2, 3, 4, 5, 6, 7] if we use the example above).*<br>\n",
    "<br>\n",
    "*If you use a negative step/stride, the slice will begin at the end of the index and step backward (value[::-2] would count starting with the last index [8, 6, 4, 2] from the example above*"
   ]
  },
  {
   "cell_type": "markdown",
   "metadata": {},
   "source": [
    "* Write code that reverses a list using a slice (hint:  negative strides)."
   ]
  },
  {
   "cell_type": "code",
   "execution_count": 35,
   "metadata": {},
   "outputs": [
    {
     "data": {
      "text/plain": [
       "[8, 7, 6, 5, 4, 3, 2, 1]"
      ]
     },
     "execution_count": 35,
     "metadata": {},
     "output_type": "execute_result"
    }
   ],
   "source": [
    "values[::-1]"
   ]
  },
  {
   "cell_type": "markdown",
   "metadata": {},
   "source": [
    "### List comprehension\n",
    "\n",
    "List comprehension is a very convenient piece of Python syntax for creating lists.  Here are a few quick exercises to help you familirize (or re-familiarize) yourself with this tool.  If you need some information of list comprehensions, the notebook on Python types and functions contains an overview of the topic."
   ]
  },
  {
   "cell_type": "markdown",
   "metadata": {},
   "source": [
    "* You are given a list of integers.  Using a single command of list comprehension create a sublist of the original list that contains only the even numbers from the list.\n",
    "\n",
    "For example, given the list\n",
    "```Python\n",
    "values = [2,8,11,3,6,2]\n",
    "```\n",
    "The result should be the list\n",
    "```Python\n",
    "[2,8,6,2]\n",
    "```"
   ]
  },
  {
   "cell_type": "code",
   "execution_count": 60,
   "metadata": {},
   "outputs": [
    {
     "name": "stdout",
     "output_type": "stream",
     "text": [
      "[2, 8, 6, 2]\n"
     ]
    }
   ],
   "source": [
    "values = [2, 8, 11, 3, 6, 2]\n",
    "even = [i for i in values if i % 2 == 0]\n",
    "print(even)"
   ]
  },
  {
   "cell_type": "markdown",
   "metadata": {},
   "source": [
    "* Write a list comprehension that produces the first 10 numbers that are a multiple of 3."
   ]
  },
  {
   "cell_type": "code",
   "execution_count": 59,
   "metadata": {},
   "outputs": [
    {
     "name": "stdout",
     "output_type": "stream",
     "text": [
      "[3, 6, 9, 12, 15, 18, 21, 24, 27, 30]\n"
     ]
    }
   ],
   "source": [
    "multiples_3 = [j for j in range(1,31) if j % 3 == 0]\n",
    "print(multiples_3)"
   ]
  },
  {
   "cell_type": "markdown",
   "metadata": {},
   "source": [
    "### Python dictionaries\n",
    "\n",
    "**Most common substring**.  Write a function called `most_common_substring(s, length)` that returns the substring of the given length that occurs the most number of times within the input string `s`.  For example, on the input `'mississipi', 4`, the return value should be `'issi'` as it's the only substring of length 4 that occurs twice, and there is no string of length 4 that occurs more than twice.  Hint:  use slices to extract substrings of the appropriate length, and use a dictionary to keep track of the number of occurrences of all substrings of the given length."
   ]
  },
  {
   "cell_type": "code",
   "execution_count": 57,
   "metadata": {},
   "outputs": [],
   "source": [
    "def most_common_substring(s, length):\n",
    "  substring = {}\n",
    "  for i in range(len(s) - length + 1):\n",
    "    if s[i:i+length] in substring:\n",
    "      substring[s[i:i+length]] += 1\n",
    "    else:\n",
    "      substring[s[i:i+length]] = 1\n",
    "  most_common = max(substring, key=substring.get)\n",
    "  return most_common"
   ]
  },
  {
   "cell_type": "code",
   "execution_count": 58,
   "metadata": {},
   "outputs": [
    {
     "data": {
      "text/plain": [
       "'issi'"
      ]
     },
     "execution_count": 58,
     "metadata": {},
     "output_type": "execute_result"
    }
   ],
   "source": [
    "most_common_substring('mississippi', 4)"
   ]
  }
 ],
 "metadata": {
  "kernelspec": {
   "display_name": "Python [conda env:base] *",
   "language": "python",
   "name": "conda-base-py"
  },
  "language_info": {
   "codemirror_mode": {
    "name": "ipython",
    "version": 3
   },
   "file_extension": ".py",
   "mimetype": "text/x-python",
   "name": "python",
   "nbconvert_exporter": "python",
   "pygments_lexer": "ipython3",
   "version": "3.12.7"
  }
 },
 "nbformat": 4,
 "nbformat_minor": 4
}
