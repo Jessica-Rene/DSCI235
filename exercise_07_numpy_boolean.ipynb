{
 "cells": [
  {
   "cell_type": "markdown",
   "metadata": {},
   "source": [
    "*Parts of this notebook are based on notebooks provided with the book: [Python Data Science Handbook](http://shop.oreilly.com/product/0636920034919.do) by Jake VanderPlas; the original content is available [on GitHub](https://github.com/jakevdp/PythonDataScienceHandbook).*\n",
    "\n",
    "<font color = emerald>Jessica Reyes<font>"
   ]
  },
  {
   "cell_type": "code",
   "execution_count": 13,
   "metadata": {},
   "outputs": [],
   "source": [
    "import numpy as np\n"
   ]
  },
  {
   "cell_type": "markdown",
   "metadata": {},
   "source": [
    "# NumPy Exercises:  Boolean masks and aggregations"
   ]
  },
  {
   "cell_type": "markdown",
   "metadata": {},
   "source": [
    "### Exercise 1\n",
    "\n",
    "Write a command that replaces all NaN values with 0 in the following array.  Use [np.isnan](https://numpy.org/doc/stable/reference/generated/numpy.isnan.html) with Boolean indexing."
   ]
  },
  {
   "cell_type": "code",
   "execution_count": 2,
   "metadata": {},
   "outputs": [],
   "source": [
    "a = np.array([1,2,3,np.nan,5,6,7,np.nan])"
   ]
  },
  {
   "cell_type": "code",
   "execution_count": 3,
   "metadata": {},
   "outputs": [
    {
     "data": {
      "text/plain": [
       "array([1., 2., 3., 0., 5., 6., 7., 0.])"
      ]
     },
     "execution_count": 3,
     "metadata": {},
     "output_type": "execute_result"
    }
   ],
   "source": [
    "# replace all occurrences of NaN with 0\n",
    "# use np.isnan\n",
    "replace_with_zero = np.zeros(len(a))\n",
    "np.nan_to_num(a, copy=False, nan=replace_with_zero)"
   ]
  },
  {
   "cell_type": "markdown",
   "metadata": {},
   "source": [
    "Sometimes we just want to get rid of NaN values.  Write a command that creates a new array that contains only the non-NaN values from the array."
   ]
  },
  {
   "cell_type": "code",
   "execution_count": 4,
   "metadata": {},
   "outputs": [
    {
     "data": {
      "text/plain": [
       "array([1., 2., 3., 5., 6., 7.])"
      ]
     },
     "execution_count": 4,
     "metadata": {},
     "output_type": "execute_result"
    }
   ],
   "source": [
    "a = np.array([1,2,3,np.nan,5,6,7,np.nan])\n",
    "# new array that contains only the non-NaN values\n",
    "non_nan_a = a[~np.isnan(a)]\n",
    "non_nan_a"
   ]
  },
  {
   "cell_type": "markdown",
   "metadata": {},
   "source": [
    "### Exercise 2"
   ]
  },
  {
   "cell_type": "markdown",
   "metadata": {},
   "source": [
    "* Create an array of size $5 \\times 6$ with random values between 0 and 1 and find the minimum and maximum values in the entire array, and in each column / row."
   ]
  },
  {
   "cell_type": "code",
   "execution_count": 14,
   "metadata": {},
   "outputs": [
    {
     "name": "stdout",
     "output_type": "stream",
     "text": [
      "[[0.22870248 0.20926104 0.25086589 0.11620476 0.39818995 0.09064691]\n",
      " [0.0680346  0.97303801 0.72142749 0.67495123 0.44786535 0.32909559]\n",
      " [0.29730294 0.37601069 0.41402517 0.59621741 0.65898473 0.22879349]\n",
      " [0.83767558 0.83134902 0.56966889 0.55745223 0.40552952 0.45381632]\n",
      " [0.78445702 0.08757087 0.45573317 0.17259158 0.10062271 0.32620505]]\n",
      "Minimum value of entire array:\n",
      "0.0680346012020493\n",
      "Maximum value of entire array: \n",
      "0.9730380066709995\n",
      "Minimum value of each column: \n",
      "[0.0680346  0.08757087 0.25086589 0.11620476 0.10062271 0.09064691]\n",
      "Maximum value of each column: \n",
      "[0.83767558 0.97303801 0.72142749 0.67495123 0.65898473 0.45381632]\n",
      "Minimum value of each row: \n",
      "[0.09064691 0.0680346  0.22879349 0.40552952 0.08757087]\n",
      "Maximum value of each row: \n",
      "[0.39818995 0.97303801 0.65898473 0.83767558 0.78445702]\n"
     ]
    }
   ],
   "source": [
    "array_5_6 = np.random.rand(5,6)\n",
    "print(array_5_6)\n",
    "#minimum value of entire array\n",
    "print('Minimum value of entire array:')\n",
    "print(np.min(array_5_6))\n",
    "#maximum value of entire array\n",
    "print('Maximum value of entire array: ')\n",
    "print(np.max(array_5_6))\n",
    "#mimimum value of each column\n",
    "print('Minimum value of each column: ')\n",
    "print(np.min(array_5_6, axis=0))\n",
    "#maximum value of each column\n",
    "print('Maximum value of each column: ')\n",
    "print(np.max(array_5_6, axis=0))\n",
    "#minimum value in each row\n",
    "print('Minimum value of each row: ')\n",
    "print(np.min(array_5_6, axis=1))\n",
    "#maximum value in each row\n",
    "print('Maximum value of each row: ')\n",
    "print(np.max(array_5_6, axis=1))"
   ]
  },
  {
   "cell_type": "markdown",
   "metadata": {},
   "source": [
    "### Exercise 3\n",
    "\n",
    "As another example of using NumPy for machine learning computations, we will compute the accuracy of a classifier.  Here you are given vectors $y$ and $\\hat{y}$, where $y=(y_1,\\ldots,y_N)$ are the given labels and $\\hat{y} = (\\hat{y}_1,\\ldots,\\hat{y}_N)$ are the predicted labels.  Both $y$ and $\\hat{y}$ are vectors of integers.\n",
    "\n",
    "Mathematically accuracy is expressed as:\n",
    "$$\n",
    "\\mathrm{accuracy} = \\frac{1}{N}\\sum_{i=1}^N \\left[\\hat{y}_i = y_i\\right].\n",
    "$$\n",
    "Here the notation $[\\mathrm{condition}]$ is the [Iverson bracket](https://en.wikipedia.org/wiki/Iverson_bracket), which is equal to 1 if the condition is true, and 0 otherwise.  What this does, is count the fraction of times $y_i$ is equal to $\\hat{y}_i$.\n",
    "Also note that the equality sign in this formula corresponds to the programming `==` operator."
   ]
  },
  {
   "cell_type": "code",
   "execution_count": 15,
   "metadata": {},
   "outputs": [
    {
     "name": "stdout",
     "output_type": "stream",
     "text": [
      "0.6\n"
     ]
    }
   ],
   "source": [
    "y = np.array([0, 1, 1, 1, 0])\n",
    "y_pred = np.array([1, 0, 1, 1, 0])\n",
    "# accuracy = ...\n",
    "accuracy = np.mean(y==y_pred)\n",
    "print(accuracy)"
   ]
  },
  {
   "cell_type": "markdown",
   "metadata": {},
   "source": [
    "For your reference here is a pure Python implementation:"
   ]
  },
  {
   "cell_type": "code",
   "execution_count": 16,
   "metadata": {},
   "outputs": [
    {
     "data": {
      "text/plain": [
       "0.6"
      ]
     },
     "execution_count": 16,
     "metadata": {},
     "output_type": "execute_result"
    }
   ],
   "source": [
    "accuracy = sum([ y[i]==y_pred[i] for i in range(len(y)) ]) / len(y)\n",
    "accuracy"
   ]
  },
  {
   "cell_type": "markdown",
   "metadata": {},
   "source": [
    "### Exercise 4:  Rainfall in Seattle\n",
    "\n",
    "Contrary to popular belief, Seattle is not as rainy as you would think.  To see what the data says, we will load a dataset containing data on one year's rainfall.  Like many of the datasets we will look at in this course, the data is in a CSV file.  NumPy provides us a method for reading such files using [np.genfromtxt](https://numpy.org/doc/stable/reference/generated/numpy.genfromtxt.html).\n",
    "The information we are interested in is contained in the fourth column of the dataset, so we will read only that column.  Another nice feature of `genfromtxt`, is that the file doesn't have to be stored on your machine, and can be read directly from a CSV file stored somewhere on the internet."
   ]
  },
  {
   "cell_type": "code",
   "execution_count": 17,
   "metadata": {},
   "outputs": [
    {
     "data": {
      "text/plain": [
       "((365,), dtype('float64'))"
      ]
     },
     "execution_count": 17,
     "metadata": {},
     "output_type": "execute_result"
    }
   ],
   "source": [
    "# genfromtxt reads delimited files\n",
    "# the default delimiter is space, so we need to explicitly tell it to use\n",
    "# comma as the delimiter\n",
    "# the precipitation data is in the fourth column of the CSV file\n",
    "# the file has a header row which we want to skip\n",
    "\n",
    "url = 'https://github.com/jakevdp/PythonDataScienceHandbook/raw/master/notebooks_v1/data/Seattle2014.csv'\n",
    "rainfall = np.genfromtxt(url, delimiter=',', skip_header=1, usecols=3)\n",
    "rainfall.shape, rainfall.dtype"
   ]
  },
  {
   "cell_type": "markdown",
   "metadata": {},
   "source": [
    "The array contains 365 values, giving daily rainfall in mm from January 1 to December 31, 2014.\n",
    "\n",
    "As a first quick visualization, let's look at the histogram of rainfall using Matplotlib:"
   ]
  },
  {
   "cell_type": "code",
   "execution_count": 18,
   "metadata": {},
   "outputs": [
    {
     "data": {
      "image/png": "[encoded data removed]",
      "text/plain": [
       "<Figure size 640x480 with 1 Axes>"
      ]
     },
     "metadata": {},
     "output_type": "display_data"
    }
   ],
   "source": [
    "import matplotlib.pyplot as plt\n",
    "plt.hist(rainfall,40);"
   ]
  },
  {
   "cell_type": "markdown",
   "metadata": {},
   "source": [
    "This histogram gives us a general idea of what the data looks like: despite its reputation, the vast majority of days in Seattle saw zero or close to zero rainfall in 2014. In the following exercises you will answer more detailed questions about the data."
   ]
  },
  {
   "cell_type": "markdown",
   "metadata": {},
   "source": [
    "In the following exercises use array Boolean operations (and refrain from using for loops!) to determine the following:"
   ]
  },
  {
   "cell_type": "markdown",
   "metadata": {},
   "source": [
    "* To confirm our observation from the histogram, how many days had zero rainfall?"
   ]
  },
  {
   "cell_type": "code",
   "execution_count": 19,
   "metadata": {},
   "outputs": [
    {
     "name": "stdout",
     "output_type": "stream",
     "text": [
      "215\n"
     ]
    }
   ],
   "source": [
    "zero_rainfall_days = np.sum(rainfall==0)\n",
    "print(zero_rainfall_days)"
   ]
  },
  {
   "cell_type": "markdown",
   "metadata": {},
   "source": [
    "* How many days had rainfall of between 10mm and 200mm?  (FYI there are 254 mm in an inch). "
   ]
  },
  {
   "cell_type": "code",
   "execution_count": 20,
   "metadata": {},
   "outputs": [
    {
     "name": "stdout",
     "output_type": "stream",
     "text": [
      "88\n"
     ]
    }
   ],
   "source": [
    "rainfall_10_200 = np.sum(rainfall>10) & np.sum(rainfall<200)\n",
    "print(rainfall_10_200)"
   ]
  },
  {
   "cell_type": "markdown",
   "metadata": {},
   "source": [
    "* How many days with rain had strictly less than 10mm of rain?"
   ]
  },
  {
   "cell_type": "code",
   "execution_count": 21,
   "metadata": {},
   "outputs": [
    {
     "name": "stdout",
     "output_type": "stream",
     "text": [
      "242\n"
     ]
    }
   ],
   "source": [
    "less_than_10 = np.sum(rainfall<10)\n",
    "print(less_than_10)"
   ]
  },
  {
   "cell_type": "markdown",
   "metadata": {},
   "source": [
    "* What was the average precipitation on rainy days?  (Use `np.mean` to compute the average)."
   ]
  },
  {
   "cell_type": "code",
   "execution_count": 22,
   "metadata": {},
   "outputs": [
    {
     "name": "stdout",
     "output_type": "stream",
     "text": [
      "33.78\n"
     ]
    }
   ],
   "source": [
    "avg_rainfall = np.mean(rainfall)\n",
    "print(round(avg_rainfall,2))"
   ]
  },
  {
   "cell_type": "markdown",
   "metadata": {},
   "source": [
    "* What was the average precipitation on summer rainy days (i.e. summer days that had rain)?  We'll count summer as going from June 21st which is the 172nd day of the year until (and including), day 262 of the year.  "
   ]
  },
  {
   "cell_type": "code",
   "execution_count": 23,
   "metadata": {},
   "outputs": [
    {
     "name": "stdout",
     "output_type": "stream",
     "text": [
      "8.08\n"
     ]
    }
   ],
   "source": [
    "summer_rainfall = rainfall[172:263]\n",
    "avg_summer_rainfall = np.mean(summer_rainfall)\n",
    "print(round(avg_summer_rainfall,2))"
   ]
  }
 ],
 "metadata": {
  "kernelspec": {
   "display_name": "Python 3 (ipykernel)",
   "language": "python",
   "name": "python3"
  },
  "language_info": {
   "codemirror_mode": {
    "name": "ipython",
    "version": 3
   },
   "file_extension": ".py",
   "mimetype": "text/x-python",
   "name": "python",
   "nbconvert_exporter": "python",
   "pygments_lexer": "ipython3",
   "version": "3.11.11"
  }
 },
 "nbformat": 4,
 "nbformat_minor": 4
}
