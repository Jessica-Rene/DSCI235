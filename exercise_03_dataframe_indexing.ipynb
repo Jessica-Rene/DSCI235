{
 "cells": [
  {
   "cell_type": "markdown",
   "metadata": {},
   "source": [
    "# DataFrame Indexing and Selection"
   ]
  },
  {
   "cell_type": "markdown",
   "metadata": {},
   "source": [
    "### Exercises\n"
   ]
  },
  {
   "cell_type": "markdown",
   "metadata": {},
   "source": [
    "For this set of exercises we will look at a small dataset which contains a list of some of the highest mountains in the world (compiled using information from [wikipedia](https://en.wikipedia.org/wiki/List_of_highest_mountains_on_Earth))."
   ]
  },
  {
   "cell_type": "code",
   "execution_count": 1,
   "metadata": {},
   "outputs": [],
   "source": [
    "import pandas as pd"
   ]
  },
  {
   "cell_type": "code",
   "execution_count": 2,
   "metadata": {},
   "outputs": [
    {
     "data": {
      "text/html": [
       "<div>\n",
       "<style scoped>\n",
       "    .dataframe tbody tr th:only-of-type {\n",
       "        vertical-align: middle;\n",
       "    }\n",
       "\n",
       "    .dataframe tbody tr th {\n",
       "        vertical-align: top;\n",
       "    }\n",
       "\n",
       "    .dataframe thead th {\n",
       "        text-align: right;\n",
       "    }\n",
       "</style>\n",
       "<table border=\"1\" class=\"dataframe\">\n",
       "  <thead>\n",
       "    <tr style=\"text-align: right;\">\n",
       "      <th></th>\n",
       "      <th>height (m)</th>\n",
       "      <th>summited</th>\n",
       "      <th>mountain range</th>\n",
       "    </tr>\n",
       "    <tr>\n",
       "      <th>name</th>\n",
       "      <th></th>\n",
       "      <th></th>\n",
       "      <th></th>\n",
       "    </tr>\n",
       "  </thead>\n",
       "  <tbody>\n",
       "    <tr>\n",
       "      <th>Mount Everest</th>\n",
       "      <td>8848</td>\n",
       "      <td>1953</td>\n",
       "      <td>Mahalangur Himalaya</td>\n",
       "    </tr>\n",
       "    <tr>\n",
       "      <th>K2</th>\n",
       "      <td>8611</td>\n",
       "      <td>1954</td>\n",
       "      <td>Baltoro Karakoram</td>\n",
       "    </tr>\n",
       "    <tr>\n",
       "      <th>Kangchenjunga</th>\n",
       "      <td>8586</td>\n",
       "      <td>1955</td>\n",
       "      <td>Kangchenjunga Himalaya</td>\n",
       "    </tr>\n",
       "    <tr>\n",
       "      <th>Lhotse</th>\n",
       "      <td>8516</td>\n",
       "      <td>1956</td>\n",
       "      <td>Mahalangur Himalaya</td>\n",
       "    </tr>\n",
       "    <tr>\n",
       "      <th>Makalu</th>\n",
       "      <td>8485</td>\n",
       "      <td>1955</td>\n",
       "      <td>Mahalangur Himalaya</td>\n",
       "    </tr>\n",
       "    <tr>\n",
       "      <th>Annapurna I</th>\n",
       "      <td>8091</td>\n",
       "      <td>1950</td>\n",
       "      <td>Annapurna Himalaya</td>\n",
       "    </tr>\n",
       "    <tr>\n",
       "      <th>Gyachung Kang</th>\n",
       "      <td>7952</td>\n",
       "      <td>1964</td>\n",
       "      <td>Mahalangur Himalaya</td>\n",
       "    </tr>\n",
       "  </tbody>\n",
       "</table>\n",
       "</div>"
      ],
      "text/plain": [
       "               height (m)  summited          mountain range\n",
       "name                                                       \n",
       "Mount Everest        8848      1953     Mahalangur Himalaya\n",
       "K2                   8611      1954       Baltoro Karakoram\n",
       "Kangchenjunga        8586      1955  Kangchenjunga Himalaya\n",
       "Lhotse               8516      1956     Mahalangur Himalaya\n",
       "Makalu               8485      1955     Mahalangur Himalaya\n",
       "Annapurna I          8091      1950      Annapurna Himalaya\n",
       "Gyachung Kang        7952      1964     Mahalangur Himalaya"
      ]
     },
     "execution_count": 2,
     "metadata": {},
     "output_type": "execute_result"
    }
   ],
   "source": [
    "mtns = pd.DataFrame([\n",
    "    {'name': 'Mount Everest',\n",
    "        'height (m)': 8848,\n",
    "        'summited': 1953,\n",
    "        'mountain range': 'Mahalangur Himalaya'},\n",
    "    {'name': 'K2',\n",
    "        'height (m)': 8611,\n",
    "        'summited': 1954,\n",
    "        'mountain range': 'Baltoro Karakoram'},\n",
    "    {'name': 'Kangchenjunga',\n",
    "        'height (m)': 8586,\n",
    "        'summited': 1955,\n",
    "        'mountain range': 'Kangchenjunga Himalaya'},\n",
    "    {'name': 'Lhotse',\n",
    "        'height (m)': 8516,\n",
    "        'summited': 1956,\n",
    "        'mountain range': 'Mahalangur Himalaya'},\n",
    "    {'name': 'Makalu', \n",
    "         'height (m)': 8485, \n",
    "         'summited': 1955, \n",
    "         'mountain range': 'Mahalangur Himalaya'},\n",
    "    {'name' : 'Annapurna I',\n",
    "         'height (m)': 8091, \n",
    "         'summited': 1950, \n",
    "         'mountain range': 'Annapurna Himalaya'},\n",
    "    {'name' : 'Gyachung Kang', \n",
    "         'height (m)': 7952, \n",
    "         'summited': 1964, \n",
    "         'mountain range': 'Mahalangur Himalaya'},\n",
    "])\n",
    "mtns.set_index('name', inplace=True)\n",
    "mtns"
   ]
  },
  {
   "cell_type": "markdown",
   "metadata": {},
   "source": [
    "Just for fun, here's another way to create the same DataFrame:"
   ]
  },
  {
   "cell_type": "code",
   "execution_count": 3,
   "metadata": {},
   "outputs": [
    {
     "data": {
      "text/html": [
       "<div>\n",
       "<style scoped>\n",
       "    .dataframe tbody tr th:only-of-type {\n",
       "        vertical-align: middle;\n",
       "    }\n",
       "\n",
       "    .dataframe tbody tr th {\n",
       "        vertical-align: top;\n",
       "    }\n",
       "\n",
       "    .dataframe thead th {\n",
       "        text-align: right;\n",
       "    }\n",
       "</style>\n",
       "<table border=\"1\" class=\"dataframe\">\n",
       "  <thead>\n",
       "    <tr style=\"text-align: right;\">\n",
       "      <th></th>\n",
       "      <th>height(m)</th>\n",
       "      <th>summited</th>\n",
       "      <th>mountain range</th>\n",
       "    </tr>\n",
       "    <tr>\n",
       "      <th>name</th>\n",
       "      <th></th>\n",
       "      <th></th>\n",
       "      <th></th>\n",
       "    </tr>\n",
       "  </thead>\n",
       "  <tbody>\n",
       "    <tr>\n",
       "      <th>Mount Everest</th>\n",
       "      <td>8848</td>\n",
       "      <td>1953</td>\n",
       "      <td>Mahalangur Himalaya</td>\n",
       "    </tr>\n",
       "    <tr>\n",
       "      <th>K2</th>\n",
       "      <td>8611</td>\n",
       "      <td>1954</td>\n",
       "      <td>Baltoro Karakoram</td>\n",
       "    </tr>\n",
       "    <tr>\n",
       "      <th>Kangchenjunga</th>\n",
       "      <td>8586</td>\n",
       "      <td>1955</td>\n",
       "      <td>Kangchenjunga Himalaya</td>\n",
       "    </tr>\n",
       "    <tr>\n",
       "      <th>Lhotse</th>\n",
       "      <td>8516</td>\n",
       "      <td>1956</td>\n",
       "      <td>Mahalangur Himalaya</td>\n",
       "    </tr>\n",
       "    <tr>\n",
       "      <th>Makalu</th>\n",
       "      <td>8485</td>\n",
       "      <td>1955</td>\n",
       "      <td>Mahalangur Himalaya</td>\n",
       "    </tr>\n",
       "    <tr>\n",
       "      <th>Annapurna I</th>\n",
       "      <td>8091</td>\n",
       "      <td>1950</td>\n",
       "      <td>Annapurna Himalaya</td>\n",
       "    </tr>\n",
       "    <tr>\n",
       "      <th>Gyachung Kang</th>\n",
       "      <td>7952</td>\n",
       "      <td>1964</td>\n",
       "      <td>Mahalangur Himalaya</td>\n",
       "    </tr>\n",
       "  </tbody>\n",
       "</table>\n",
       "</div>"
      ],
      "text/plain": [
       "               height(m)  summited          mountain range\n",
       "name                                                      \n",
       "Mount Everest       8848      1953     Mahalangur Himalaya\n",
       "K2                  8611      1954       Baltoro Karakoram\n",
       "Kangchenjunga       8586      1955  Kangchenjunga Himalaya\n",
       "Lhotse              8516      1956     Mahalangur Himalaya\n",
       "Makalu              8485      1955     Mahalangur Himalaya\n",
       "Annapurna I         8091      1950      Annapurna Himalaya\n",
       "Gyachung Kang       7952      1964     Mahalangur Himalaya"
      ]
     },
     "execution_count": 3,
     "metadata": {},
     "output_type": "execute_result"
    }
   ],
   "source": [
    "mtns_dict ={\n",
    "    'name': ['Mount Everest','K2', 'Kangchenjunga', 'Lhotse', 'Makalu', \n",
    "              'Annapurna I', 'Gyachung Kang'],\n",
    "    'height(m)': [8848, 8611, 8586, 8516, 8485, 8091, 7952],\n",
    "    'summited': [1953, 1954, 1955, 1956, 1955, 1950, 1964],\n",
    "    'mountain range': ['Mahalangur Himalaya', 'Baltoro Karakoram', \n",
    "                        'Kangchenjunga Himalaya', 'Mahalangur Himalaya',\n",
    "                        'Mahalangur Himalaya', 'Annapurna Himalaya',\n",
    "                        'Mahalangur Himalaya']}\n",
    "mtns = pd.DataFrame(mtns_dict)\n",
    "mtns.set_index('name', inplace=True)\n",
    "mtns"
   ]
  },
  {
   "cell_type": "markdown",
   "metadata": {},
   "source": [
    "Using this ``DataFrame`` extract the following selections from the data:"
   ]
  },
  {
   "cell_type": "markdown",
   "metadata": {},
   "source": [
    "* Extract the data for 'K2'"
   ]
  },
  {
   "cell_type": "code",
   "execution_count": 9,
   "metadata": {},
   "outputs": [
    {
     "data": {
      "text/plain": [
       "height(m)                      8611\n",
       "summited                       1954\n",
       "mountain range    Baltoro Karakoram\n",
       "Name: K2, dtype: object"
      ]
     },
     "execution_count": 9,
     "metadata": {},
     "output_type": "execute_result"
    }
   ],
   "source": [
    "# K2\n",
    "mtns.loc['K2']"
   ]
  },
  {
   "cell_type": "markdown",
   "metadata": {},
   "source": [
    "* What is the height of K2?"
   ]
  },
  {
   "cell_type": "code",
   "execution_count": 10,
   "metadata": {},
   "outputs": [
    {
     "data": {
      "text/plain": [
       "8611"
      ]
     },
     "execution_count": 10,
     "metadata": {},
     "output_type": "execute_result"
    }
   ],
   "source": [
    "# K2 height\n",
    "mtns.loc['K2', 'height(m)']"
   ]
  },
  {
   "cell_type": "markdown",
   "metadata": {},
   "source": [
    "* Extract the 'summited' column of the data."
   ]
  },
  {
   "cell_type": "code",
   "execution_count": 11,
   "metadata": {},
   "outputs": [
    {
     "data": {
      "text/plain": [
       "name\n",
       "Mount Everest    1953\n",
       "K2               1954\n",
       "Kangchenjunga    1955\n",
       "Lhotse           1956\n",
       "Makalu           1955\n",
       "Annapurna I      1950\n",
       "Gyachung Kang    1964\n",
       "Name: summited, dtype: int64"
      ]
     },
     "execution_count": 11,
     "metadata": {},
     "output_type": "execute_result"
    }
   ],
   "source": [
    "# summited\n",
    "mtns['summited']"
   ]
  },
  {
   "cell_type": "markdown",
   "metadata": {},
   "source": [
    "* All mountains that were summited between 1950 and 1955 (including 1955)"
   ]
  },
  {
   "cell_type": "code",
   "execution_count": 16,
   "metadata": {},
   "outputs": [
    {
     "data": {
      "text/html": [
       "<div>\n",
       "<style scoped>\n",
       "    .dataframe tbody tr th:only-of-type {\n",
       "        vertical-align: middle;\n",
       "    }\n",
       "\n",
       "    .dataframe tbody tr th {\n",
       "        vertical-align: top;\n",
       "    }\n",
       "\n",
       "    .dataframe thead th {\n",
       "        text-align: right;\n",
       "    }\n",
       "</style>\n",
       "<table border=\"1\" class=\"dataframe\">\n",
       "  <thead>\n",
       "    <tr style=\"text-align: right;\">\n",
       "      <th></th>\n",
       "      <th>height(m)</th>\n",
       "      <th>summited</th>\n",
       "      <th>mountain range</th>\n",
       "    </tr>\n",
       "    <tr>\n",
       "      <th>name</th>\n",
       "      <th></th>\n",
       "      <th></th>\n",
       "      <th></th>\n",
       "    </tr>\n",
       "  </thead>\n",
       "  <tbody>\n",
       "    <tr>\n",
       "      <th>Mount Everest</th>\n",
       "      <td>8848</td>\n",
       "      <td>1953</td>\n",
       "      <td>Mahalangur Himalaya</td>\n",
       "    </tr>\n",
       "    <tr>\n",
       "      <th>K2</th>\n",
       "      <td>8611</td>\n",
       "      <td>1954</td>\n",
       "      <td>Baltoro Karakoram</td>\n",
       "    </tr>\n",
       "    <tr>\n",
       "      <th>Kangchenjunga</th>\n",
       "      <td>8586</td>\n",
       "      <td>1955</td>\n",
       "      <td>Kangchenjunga Himalaya</td>\n",
       "    </tr>\n",
       "    <tr>\n",
       "      <th>Makalu</th>\n",
       "      <td>8485</td>\n",
       "      <td>1955</td>\n",
       "      <td>Mahalangur Himalaya</td>\n",
       "    </tr>\n",
       "    <tr>\n",
       "      <th>Annapurna I</th>\n",
       "      <td>8091</td>\n",
       "      <td>1950</td>\n",
       "      <td>Annapurna Himalaya</td>\n",
       "    </tr>\n",
       "  </tbody>\n",
       "</table>\n",
       "</div>"
      ],
      "text/plain": [
       "               height(m)  summited          mountain range\n",
       "name                                                      \n",
       "Mount Everest       8848      1953     Mahalangur Himalaya\n",
       "K2                  8611      1954       Baltoro Karakoram\n",
       "Kangchenjunga       8586      1955  Kangchenjunga Himalaya\n",
       "Makalu              8485      1955     Mahalangur Himalaya\n",
       "Annapurna I         8091      1950      Annapurna Himalaya"
      ]
     },
     "execution_count": 16,
     "metadata": {},
     "output_type": "execute_result"
    }
   ],
   "source": [
    "# all mountains summited between 1950 and 1955\n",
    "mtns[(mtns['summited'] >= 1950) & (mtns['summited'] <= 1955)]"
   ]
  },
  {
   "cell_type": "markdown",
   "metadata": {},
   "source": [
    "* Construct a ``DataFrame`` that contains the height and summited columns."
   ]
  },
  {
   "cell_type": "code",
   "execution_count": 18,
   "metadata": {},
   "outputs": [
    {
     "data": {
      "text/html": [
       "<div>\n",
       "<style scoped>\n",
       "    .dataframe tbody tr th:only-of-type {\n",
       "        vertical-align: middle;\n",
       "    }\n",
       "\n",
       "    .dataframe tbody tr th {\n",
       "        vertical-align: top;\n",
       "    }\n",
       "\n",
       "    .dataframe thead th {\n",
       "        text-align: right;\n",
       "    }\n",
       "</style>\n",
       "<table border=\"1\" class=\"dataframe\">\n",
       "  <thead>\n",
       "    <tr style=\"text-align: right;\">\n",
       "      <th></th>\n",
       "      <th>height(m)</th>\n",
       "      <th>summited</th>\n",
       "    </tr>\n",
       "    <tr>\n",
       "      <th>name</th>\n",
       "      <th></th>\n",
       "      <th></th>\n",
       "    </tr>\n",
       "  </thead>\n",
       "  <tbody>\n",
       "    <tr>\n",
       "      <th>Mount Everest</th>\n",
       "      <td>8848</td>\n",
       "      <td>1953</td>\n",
       "    </tr>\n",
       "    <tr>\n",
       "      <th>K2</th>\n",
       "      <td>8611</td>\n",
       "      <td>1954</td>\n",
       "    </tr>\n",
       "    <tr>\n",
       "      <th>Kangchenjunga</th>\n",
       "      <td>8586</td>\n",
       "      <td>1955</td>\n",
       "    </tr>\n",
       "    <tr>\n",
       "      <th>Lhotse</th>\n",
       "      <td>8516</td>\n",
       "      <td>1956</td>\n",
       "    </tr>\n",
       "    <tr>\n",
       "      <th>Makalu</th>\n",
       "      <td>8485</td>\n",
       "      <td>1955</td>\n",
       "    </tr>\n",
       "    <tr>\n",
       "      <th>Annapurna I</th>\n",
       "      <td>8091</td>\n",
       "      <td>1950</td>\n",
       "    </tr>\n",
       "    <tr>\n",
       "      <th>Gyachung Kang</th>\n",
       "      <td>7952</td>\n",
       "      <td>1964</td>\n",
       "    </tr>\n",
       "  </tbody>\n",
       "</table>\n",
       "</div>"
      ],
      "text/plain": [
       "               height(m)  summited\n",
       "name                              \n",
       "Mount Everest       8848      1953\n",
       "K2                  8611      1954\n",
       "Kangchenjunga       8586      1955\n",
       "Lhotse              8516      1956\n",
       "Makalu              8485      1955\n",
       "Annapurna I         8091      1950\n",
       "Gyachung Kang       7952      1964"
      ]
     },
     "execution_count": 18,
     "metadata": {},
     "output_type": "execute_result"
    }
   ],
   "source": [
    "# DataFrame that contains the height and summited columns\n",
    "mtns[['height(m)','summited']]"
   ]
  },
  {
   "cell_type": "markdown",
   "metadata": {},
   "source": [
    "* Data on the five tallest mountains.  Use a ``DataFrame``'s [sort_values](https://pandas.pydata.org/pandas-docs/stable/reference/api/pandas.DataFrame.sort_values.html) method."
   ]
  },
  {
   "cell_type": "code",
   "execution_count": 21,
   "metadata": {},
   "outputs": [
    {
     "data": {
      "text/html": [
       "<div>\n",
       "<style scoped>\n",
       "    .dataframe tbody tr th:only-of-type {\n",
       "        vertical-align: middle;\n",
       "    }\n",
       "\n",
       "    .dataframe tbody tr th {\n",
       "        vertical-align: top;\n",
       "    }\n",
       "\n",
       "    .dataframe thead th {\n",
       "        text-align: right;\n",
       "    }\n",
       "</style>\n",
       "<table border=\"1\" class=\"dataframe\">\n",
       "  <thead>\n",
       "    <tr style=\"text-align: right;\">\n",
       "      <th></th>\n",
       "      <th>height(m)</th>\n",
       "      <th>summited</th>\n",
       "      <th>mountain range</th>\n",
       "    </tr>\n",
       "    <tr>\n",
       "      <th>name</th>\n",
       "      <th></th>\n",
       "      <th></th>\n",
       "      <th></th>\n",
       "    </tr>\n",
       "  </thead>\n",
       "  <tbody>\n",
       "    <tr>\n",
       "      <th>Mount Everest</th>\n",
       "      <td>8848</td>\n",
       "      <td>1953</td>\n",
       "      <td>Mahalangur Himalaya</td>\n",
       "    </tr>\n",
       "    <tr>\n",
       "      <th>K2</th>\n",
       "      <td>8611</td>\n",
       "      <td>1954</td>\n",
       "      <td>Baltoro Karakoram</td>\n",
       "    </tr>\n",
       "    <tr>\n",
       "      <th>Kangchenjunga</th>\n",
       "      <td>8586</td>\n",
       "      <td>1955</td>\n",
       "      <td>Kangchenjunga Himalaya</td>\n",
       "    </tr>\n",
       "    <tr>\n",
       "      <th>Lhotse</th>\n",
       "      <td>8516</td>\n",
       "      <td>1956</td>\n",
       "      <td>Mahalangur Himalaya</td>\n",
       "    </tr>\n",
       "    <tr>\n",
       "      <th>Makalu</th>\n",
       "      <td>8485</td>\n",
       "      <td>1955</td>\n",
       "      <td>Mahalangur Himalaya</td>\n",
       "    </tr>\n",
       "  </tbody>\n",
       "</table>\n",
       "</div>"
      ],
      "text/plain": [
       "               height(m)  summited          mountain range\n",
       "name                                                      \n",
       "Mount Everest       8848      1953     Mahalangur Himalaya\n",
       "K2                  8611      1954       Baltoro Karakoram\n",
       "Kangchenjunga       8586      1955  Kangchenjunga Himalaya\n",
       "Lhotse              8516      1956     Mahalangur Himalaya\n",
       "Makalu              8485      1955     Mahalangur Himalaya"
      ]
     },
     "execution_count": 21,
     "metadata": {},
     "output_type": "execute_result"
    }
   ],
   "source": [
    "# five tallest mountains\n",
    "mtns.sort_values('height(m)', ascending=False).head(5)"
   ]
  },
  {
   "cell_type": "markdown",
   "metadata": {},
   "source": [
    "* The least tall mountain in the dataset.  Use the `idxmin` method of a Series object (`pd.Series.idxmin`)."
   ]
  },
  {
   "cell_type": "code",
   "execution_count": 22,
   "metadata": {},
   "outputs": [
    {
     "data": {
      "text/plain": [
       "'Gyachung Kang'"
      ]
     },
     "execution_count": 22,
     "metadata": {},
     "output_type": "execute_result"
    }
   ],
   "source": [
    "# least tall\n",
    "mtns['height(m)'].idxmin()"
   ]
  },
  {
   "cell_type": "markdown",
   "metadata": {},
   "source": [
    "* A DataFrame containing all mountains whose height is above 8000 m, and contains only name and height information"
   ]
  },
  {
   "cell_type": "code",
   "execution_count": 27,
   "metadata": {},
   "outputs": [
    {
     "data": {
      "text/html": [
       "<div>\n",
       "<style scoped>\n",
       "    .dataframe tbody tr th:only-of-type {\n",
       "        vertical-align: middle;\n",
       "    }\n",
       "\n",
       "    .dataframe tbody tr th {\n",
       "        vertical-align: top;\n",
       "    }\n",
       "\n",
       "    .dataframe thead th {\n",
       "        text-align: right;\n",
       "    }\n",
       "</style>\n",
       "<table border=\"1\" class=\"dataframe\">\n",
       "  <thead>\n",
       "    <tr style=\"text-align: right;\">\n",
       "      <th></th>\n",
       "      <th>height(m)</th>\n",
       "    </tr>\n",
       "    <tr>\n",
       "      <th>name</th>\n",
       "      <th></th>\n",
       "    </tr>\n",
       "  </thead>\n",
       "  <tbody>\n",
       "    <tr>\n",
       "      <th>Mount Everest</th>\n",
       "      <td>8848</td>\n",
       "    </tr>\n",
       "    <tr>\n",
       "      <th>K2</th>\n",
       "      <td>8611</td>\n",
       "    </tr>\n",
       "    <tr>\n",
       "      <th>Kangchenjunga</th>\n",
       "      <td>8586</td>\n",
       "    </tr>\n",
       "    <tr>\n",
       "      <th>Lhotse</th>\n",
       "      <td>8516</td>\n",
       "    </tr>\n",
       "    <tr>\n",
       "      <th>Makalu</th>\n",
       "      <td>8485</td>\n",
       "    </tr>\n",
       "    <tr>\n",
       "      <th>Annapurna I</th>\n",
       "      <td>8091</td>\n",
       "    </tr>\n",
       "  </tbody>\n",
       "</table>\n",
       "</div>"
      ],
      "text/plain": [
       "               height(m)\n",
       "name                    \n",
       "Mount Everest       8848\n",
       "K2                  8611\n",
       "Kangchenjunga       8586\n",
       "Lhotse              8516\n",
       "Makalu              8485\n",
       "Annapurna I         8091"
      ]
     },
     "execution_count": 27,
     "metadata": {},
     "output_type": "execute_result"
    }
   ],
   "source": [
    "# mountains above 8000m\n",
    "mtns[mtns['height(m)'] > 8000][['height(m)']]"
   ]
  }
 ],
 "metadata": {
  "anaconda-cloud": {},
  "kernelspec": {
   "display_name": "Python 3 (ipykernel)",
   "language": "python",
   "name": "python3"
  },
  "language_info": {
   "codemirror_mode": {
    "name": "ipython",
    "version": 3
   },
   "file_extension": ".py",
   "mimetype": "text/x-python",
   "name": "python",
   "nbconvert_exporter": "python",
   "pygments_lexer": "ipython3",
   "version": "3.11.11"
  }
 },
 "nbformat": 4,
 "nbformat_minor": 4
}
