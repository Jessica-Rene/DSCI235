{
 "cells": [
  {
   "cell_type": "code",
   "execution_count": 1,
   "id": "2c4ce27d-c228-4eb3-b142-9af1e89b3e4a",
   "metadata": {},
   "outputs": [],
   "source": [
    "import numpy as np"
   ]
  },
  {
   "cell_type": "markdown",
   "id": "2c3cef5c",
   "metadata": {},
   "source": [
    "# Python classes\n",
    "<font color = magenta>Jessica Reyes<font> <br>\n",
    "<font color = black>We have seen that Python operators such as multiplication behave differently on NumPy and pandas arrays / DataFrames than on Python lists:<font>"
   ]
  },
  {
   "cell_type": "code",
   "execution_count": 2,
   "id": "40d75edb-b294-4751-a9bc-9cd5bde32237",
   "metadata": {},
   "outputs": [
    {
     "data": {
      "text/plain": [
       "[1, 2, 3, 1, 2, 3, 1, 2, 3]"
      ]
     },
     "execution_count": 2,
     "metadata": {},
     "output_type": "execute_result"
    }
   ],
   "source": [
    "[1,2,3] * 3"
   ]
  },
  {
   "cell_type": "code",
   "execution_count": 3,
   "id": "b48bd3ee-fa3c-4ae3-b7dd-c1f12c78f566",
   "metadata": {},
   "outputs": [
    {
     "data": {
      "text/plain": [
       "array([3, 6, 9])"
      ]
     },
     "execution_count": 3,
     "metadata": {},
     "output_type": "execute_result"
    }
   ],
   "source": [
    "np.array([1,2,3]) * 3"
   ]
  },
  {
   "cell_type": "markdown",
   "id": "bef750e8-4e8d-4708-83a9-f6659514b1d8",
   "metadata": {},
   "source": [
    "The designers of NumPy and pandas have redefined the various mathematical operators to function in a way that is more relevant for their intended uses.  This is called **operator overloading**.  In this notebook we will see how this is coded, and also learn other special features of Python classes.\n",
    "To demonstrate that, we will implement a class that represents a two dimensional array, i.e. a matrix.\n"
   ]
  },
  {
   "cell_type": "code",
   "execution_count": 4,
   "id": "03700fe8",
   "metadata": {},
   "outputs": [],
   "source": [
    "class matrix:\n",
    "    def __init__(self, _matrix):\n",
    "        self._matrix = np.array(_matrix)\n",
    "\n",
    "    def __str__(self) :\n",
    "        print('in __str__')\n",
    "        return str(self._matrix)\n",
    "\n",
    "    def __repr__(self) :\n",
    "        print('in __repr__')\n",
    "        return 'matrix' + repr(self._matrix)[5:]\n",
    "        \n",
    "    def __len__(self):\n",
    "        \"\"\"\n",
    "        return the number of rows in the matrix\n",
    "        \"\"\"\n",
    "        return len(self._matrix)\n",
    "\n",
    "    def __getitem__(self, item):\n",
    "        \"\"\"\n",
    "        The result of applying the square brackets operator\n",
    "        \"\"\"\n",
    "        return self._matrix[item]\n",
    "\n",
    "    def __eq__(self, other):\n",
    "        \"\"\"\n",
    "        define matrix equality\n",
    "        \"\"\"\n",
    "        if not(isinstance(other, matrix)):\n",
    "            raise ValueError('wrong type of argument to __eq__')\n",
    "        return np.all(self._matrix == other._matrix)\n",
    "    \n",
    "    def __mul__(self, other):\n",
    "        \"\"\"\n",
    "        multiplication by a matrix or a scalar \n",
    "        \"\"\"\n",
    "        if isinstance(other, matrix):\n",
    "            # matrix multiplication (elementwise multiplication)\n",
    "            return matrix(self._matrix * other._matrix)\n",
    "        else :\n",
    "            # assume \"other\" is a number\n",
    "            other = float(other)\n",
    "            return matrix(self._matrix * other)\n",
    "\n",
    "    def __add__(self, other) :\n",
    "        \"\"\"\n",
    "        define the addition operator\n",
    "        \"\"\"\n",
    "        if isinstance(other, matrix):\n",
    "            # matrix multiplication (elementwise multiplication)\n",
    "            return matrix(self._matrix + other._matrix)\n",
    "        else :\n",
    "            # assume \"other\" is a number\n",
    "            other = float(other)\n",
    "            return matrix(self._matrix + other)        \n",
    "    \n",
    "    def transpose(self):\n",
    "        return self._matrix.transpose()\n"
   ]
  },
  {
   "cell_type": "markdown",
   "id": "d007dfd2",
   "metadata": {},
   "source": [
    "Let's try to understand the code a bit better, especially all those methods with funky underscore names.  Those have special roles when implementing Python classes.\n",
    "\n",
    "First is the constructor which is named `__init__` in Python.  It is called whenever you create a new object of the class:"
   ]
  },
  {
   "cell_type": "code",
   "execution_count": 5,
   "id": "b1842b07",
   "metadata": {},
   "outputs": [],
   "source": [
    "m = matrix([[1,2,3],[4,5,6]])"
   ]
  },
  {
   "cell_type": "markdown",
   "id": "1613e8a2",
   "metadata": {},
   "source": [
    "Both `__str__` and `__repr__` are methods that return a string representation of a Python object.  But they are called in different situations:"
   ]
  },
  {
   "cell_type": "code",
   "execution_count": 6,
   "id": "12928503",
   "metadata": {},
   "outputs": [
    {
     "name": "stdout",
     "output_type": "stream",
     "text": [
      "in __repr__\n"
     ]
    },
    {
     "data": {
      "text/plain": [
       "matrix([[1, 2, 3],\n",
       "       [4, 5, 6]])"
      ]
     },
     "execution_count": 6,
     "metadata": {},
     "output_type": "execute_result"
    }
   ],
   "source": [
    "m"
   ]
  },
  {
   "cell_type": "code",
   "execution_count": 7,
   "id": "b76e8036",
   "metadata": {},
   "outputs": [
    {
     "name": "stdout",
     "output_type": "stream",
     "text": [
      "in __str__\n",
      "[[1 2 3]\n",
      " [4 5 6]]\n"
     ]
    }
   ],
   "source": [
    "print(m)"
   ]
  },
  {
   "cell_type": "markdown",
   "id": "a48047b7",
   "metadata": {},
   "source": [
    "`__str__` is analogous to Java's `toString` method, and its role is to provide a readable output for the user.  `__repr__` is usually implemented so that \n",
    "```Python\n",
    "eval(repr(object)) == object\n",
    "```\n",
    "I.e. it is a representation of the object whose objective is to *reproduce* it.  We can easily verify that:"
   ]
  },
  {
   "cell_type": "code",
   "execution_count": 8,
   "id": "0c882a51",
   "metadata": {},
   "outputs": [
    {
     "name": "stdout",
     "output_type": "stream",
     "text": [
      "in __repr__\n"
     ]
    },
    {
     "data": {
      "text/plain": [
       "'matrix([[1, 2, 3],\\n       [4, 5, 6]])'"
      ]
     },
     "execution_count": 8,
     "metadata": {},
     "output_type": "execute_result"
    }
   ],
   "source": [
    "repr(m)"
   ]
  },
  {
   "cell_type": "code",
   "execution_count": 9,
   "id": "00c14db4",
   "metadata": {},
   "outputs": [
    {
     "name": "stdout",
     "output_type": "stream",
     "text": [
      "in __repr__\n",
      "in __repr__\n"
     ]
    },
    {
     "data": {
      "text/plain": [
       "matrix([[1, 2, 3],\n",
       "       [4, 5, 6]])"
      ]
     },
     "execution_count": 9,
     "metadata": {},
     "output_type": "execute_result"
    }
   ],
   "source": [
    "eval(repr(m))"
   ]
  },
  {
   "cell_type": "code",
   "execution_count": 10,
   "id": "9358b0ba",
   "metadata": {},
   "outputs": [
    {
     "name": "stdout",
     "output_type": "stream",
     "text": [
      "in __repr__\n"
     ]
    },
    {
     "data": {
      "text/plain": [
       "True"
      ]
     },
     "execution_count": 10,
     "metadata": {},
     "output_type": "execute_result"
    }
   ],
   "source": [
    "eval(repr(m)) == m"
   ]
  },
  {
   "cell_type": "markdown",
   "id": "f6bf1d2b",
   "metadata": {},
   "source": [
    "The bracket operator works as expected:"
   ]
  },
  {
   "cell_type": "code",
   "execution_count": 11,
   "id": "f762215c",
   "metadata": {},
   "outputs": [
    {
     "data": {
      "text/plain": [
       "array([1, 2, 3])"
      ]
     },
     "execution_count": 11,
     "metadata": {},
     "output_type": "execute_result"
    }
   ],
   "source": [
    "m[0]"
   ]
  },
  {
   "cell_type": "code",
   "execution_count": 12,
   "id": "8b312b18",
   "metadata": {},
   "outputs": [
    {
     "data": {
      "text/plain": [
       "1"
      ]
     },
     "execution_count": 12,
     "metadata": {},
     "output_type": "execute_result"
    }
   ],
   "source": [
    "m[0,0]"
   ]
  },
  {
   "cell_type": "markdown",
   "id": "eb3b2889",
   "metadata": {},
   "source": [
    "As does the multiplication operator:"
   ]
  },
  {
   "cell_type": "code",
   "execution_count": 13,
   "id": "b7744b8f",
   "metadata": {},
   "outputs": [
    {
     "name": "stdout",
     "output_type": "stream",
     "text": [
      "in __repr__\n"
     ]
    },
    {
     "data": {
      "text/plain": [
       "matrix([[ 3.,  6.,  9.],\n",
       "       [12., 15., 18.]])"
      ]
     },
     "execution_count": 13,
     "metadata": {},
     "output_type": "execute_result"
    }
   ],
   "source": [
    "m*3"
   ]
  },
  {
   "cell_type": "markdown",
   "id": "72d5b2eb-c44c-4926-975d-e17310f280b8",
   "metadata": {},
   "source": [
    "and the addition operator:"
   ]
  },
  {
   "cell_type": "code",
   "execution_count": 14,
   "id": "75fe7469-b520-4dd8-930e-595359bae252",
   "metadata": {},
   "outputs": [
    {
     "name": "stdout",
     "output_type": "stream",
     "text": [
      "in __repr__\n"
     ]
    },
    {
     "data": {
      "text/plain": [
       "matrix([[ 2,  4,  6],\n",
       "       [ 8, 10, 12]])"
      ]
     },
     "execution_count": 14,
     "metadata": {},
     "output_type": "execute_result"
    }
   ],
   "source": [
    "m + m"
   ]
  },
  {
   "cell_type": "markdown",
   "id": "2c4725fe",
   "metadata": {},
   "source": [
    "## Exercise\n",
    "\n",
    "Implement a class called **vector** that represents the concept of a one dimensional array of numbers.  Use a Python list for storing the array.\n",
    "Your class should have the following methods:\n",
    "\n",
    "* A constructor that creates a new object of the class out of a Python list or NumPy array.  It then stores the data in a Python list.  It converts each element into a floating point number.  \n",
    "* Appropriate `__str__` and `__repr__` methods\n",
    "* An `__eq__` method that verifies object equality.  We will define two vectors as equal iff all their elements are equal.\n",
    "* Functions that implement the multiplication and addition operators.  Multiplication should be able to handle scalar multiplication, and addition should handle addition of two vectors or a vector and scalar.\n",
    "* Implement the bracket operator in an appropriate way.\n"
   ]
  },
  {
   "cell_type": "code",
   "execution_count": 15,
   "id": "aff9acb7",
   "metadata": {},
   "outputs": [
    {
     "name": "stdout",
     "output_type": "stream",
     "text": [
      "Vector([1.0, 2.0, 3.0])\n",
      "False\n",
      "Vector([5.0, 7.0, 9.0])\n",
      "Vector([2.0, 4.0, 6.0])\n",
      "2.0\n",
      "Vector([1.0, 10, 3.0])\n"
     ]
    }
   ],
   "source": [
    "class Vector:\n",
    "    def __init__(self, data):\n",
    "        # convert array to a list of floats\n",
    "        if isinstance(data, np.ndarray):\n",
    "            self.data = [float(x) for x in data]\n",
    "        else:\n",
    "            self.data = [float(x) for x in data]\n",
    "    \n",
    "    def __str__(self):\n",
    "        # Return a string representation of the vector \n",
    "        return f\"Vector({self.data})\"\n",
    "    \n",
    "    def __repr__(self):\n",
    "        return f\"Vector({self.data!r})\"\n",
    "    \n",
    "    def __eq__(self, other):\n",
    "        # Check for equality between two vectors\n",
    "        if isinstance(other, Vector):\n",
    "            return self.data == other.data\n",
    "        return False\n",
    "    \n",
    "    def __add__(self, other):\n",
    "        if isinstance(other, Vector):\n",
    "            # Vector addition\n",
    "            if len(self.data) != len(other.data):\n",
    "                raise ValueError(\"Vectors must have the same length to add them.\")\n",
    "            return Vector([x + y for x, y in zip(self.data, other.data)])\n",
    "        elif isinstance(other, (int, float)):\n",
    "            # Vector + scalar\n",
    "            return Vector([x + other for x in self.data])\n",
    "        else:\n",
    "            raise TypeError(\"Unsupported addition type.\")\n",
    "    \n",
    "    def __mul__(self, other):\n",
    "        if isinstance(other, (int, float)):\n",
    "            # Scalar multiplication\n",
    "            return Vector([x * other for x in self.data])\n",
    "        elif isinstance(other, Vector):\n",
    "            # Vector multiplication\n",
    "            if len(self.data) != len(other.data):\n",
    "                raise ValueError(\"Vectors must have the same length to multiply them element-wise.\")\n",
    "            return Vector([x * y for x, y in zip(self.data, other.data)])\n",
    "        else:\n",
    "            raise TypeError(\"Unsupported multiplication type.\")\n",
    "    \n",
    "    def __getitem__(self, index):\n",
    "        # Bracket operator 'get'\n",
    "        return self.data[index]\n",
    "    \n",
    "    def __setitem__(self, index, value):\n",
    "        # Bracket operator 'set'\n",
    "        self.data[index] = value\n",
    "        \n",
    "v1 = Vector([1, 2, 3])\n",
    "v2 = Vector([4, 5, 6])\n",
    "\n",
    "# Printing vector\n",
    "print(v1) \n",
    "\n",
    "# Checking equality\n",
    "print(v1 == v2)  # Output: False\n",
    "\n",
    "# Adding two vectors\n",
    "v3 = v1 + v2\n",
    "print(v3)  \n",
    "\n",
    "# Scalar multiplication\n",
    "v4 = v1 * 2\n",
    "print(v4) \n",
    "\n",
    "# Accessing elements with the bracket operator\n",
    "print(v1[1])  \n",
    "\n",
    "# Modifying elements with the bracket operator\n",
    "v1[1] = 10\n",
    "print(v1) "
   ]
  }
 ],
 "metadata": {
  "kernelspec": {
   "display_name": "Python 3 (ipykernel)",
   "language": "python",
   "name": "python3"
  },
  "language_info": {
   "codemirror_mode": {
    "name": "ipython",
    "version": 3
   },
   "file_extension": ".py",
   "mimetype": "text/x-python",
   "name": "python",
   "nbconvert_exporter": "python",
   "pygments_lexer": "ipython3",
   "version": "3.11.11"
  }
 },
 "nbformat": 4,
 "nbformat_minor": 5
}
