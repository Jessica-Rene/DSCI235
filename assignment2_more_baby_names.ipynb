{
 "cells": [
  {
   "cell_type": "markdown",
   "metadata": {},
   "source": [
    "# DSCI 235 spr 2024 Assignment 2\n",
    "\n",
    "<span style=\"color: brown;\">Jessica Reyes</span>\n",
    "\n",
    "**Instructions.** In this assignment we will answer some of the same questions from assignment 1.  The objective of this assignment is to practice Multi-Indexing, so **do not** use Boolean indexing / Boolean masks unless explicitly suggested you do so.  Also, do not use pandas functionality that we haven't covered in class unless explicitly suggested.  "
   ]
  },
  {
   "cell_type": "code",
   "execution_count": 6,
   "metadata": {},
   "outputs": [],
   "source": [
    "import pandas as pd\n",
    "import matplotlib.pyplot as plt"
   ]
  },
  {
   "cell_type": "markdown",
   "metadata": {},
   "source": [
    "## Baby names in Colorado and Texas\n",
    "\n",
    "In this assignment we will continue to analyze baby names.  This time the data will contain data collected in Colorado and Texas.\n",
    "The data follows the same format as in the previous assignment:\n",
    "\n",
    "```\n",
    "CO,F,1910,Mary,193\n",
    "CO,F,1910,Helen,112\n",
    "CO,F,1910,Dorothy,87\n",
    "CO,F,1910,Ruth,68\n",
    "CO,F,1910,Margaret,67\n",
    "...\n",
    "TX,F,1910,Mary,895\n",
    "TX,F,1910,Ruby,314\n",
    "TX,F,1910,Annie,277\n",
    "TX,F,1910,Willie,260\n",
    "TX,F,1910,Ruth,252\n",
    "...\n",
    "```\n",
    "\n",
    "The first column specifies the state (CO or TX), the second column is the gender (F/M), the third column is the year (1910-2018), and the last column is the number babies that were given that name during that year and state.\n",
    "\n",
    "First, we will load the data straight into the Jupyter notebook:"
   ]
  },
  {
   "cell_type": "markdown",
   "metadata": {},
   "source": [
    "#### Reading in the data\n",
    "\n",
    "We'll use the pandas `read_csv` function to read the data:"
   ]
  },
  {
   "cell_type": "code",
   "execution_count": 2,
   "metadata": {},
   "outputs": [
    {
     "data": {
      "text/html": [
       "<div>\n",
       "<style scoped>\n",
       "    .dataframe tbody tr th:only-of-type {\n",
       "        vertical-align: middle;\n",
       "    }\n",
       "\n",
       "    .dataframe tbody tr th {\n",
       "        vertical-align: top;\n",
       "    }\n",
       "\n",
       "    .dataframe thead th {\n",
       "        text-align: right;\n",
       "    }\n",
       "</style>\n",
       "<table border=\"1\" class=\"dataframe\">\n",
       "  <thead>\n",
       "    <tr style=\"text-align: right;\">\n",
       "      <th></th>\n",
       "      <th>state</th>\n",
       "      <th>gender</th>\n",
       "      <th>year</th>\n",
       "      <th>name</th>\n",
       "      <th>count</th>\n",
       "    </tr>\n",
       "  </thead>\n",
       "  <tbody>\n",
       "    <tr>\n",
       "      <th>0</th>\n",
       "      <td>CO</td>\n",
       "      <td>F</td>\n",
       "      <td>1910</td>\n",
       "      <td>Mary</td>\n",
       "      <td>193</td>\n",
       "    </tr>\n",
       "    <tr>\n",
       "      <th>1</th>\n",
       "      <td>CO</td>\n",
       "      <td>F</td>\n",
       "      <td>1910</td>\n",
       "      <td>Helen</td>\n",
       "      <td>112</td>\n",
       "    </tr>\n",
       "    <tr>\n",
       "      <th>2</th>\n",
       "      <td>CO</td>\n",
       "      <td>F</td>\n",
       "      <td>1910</td>\n",
       "      <td>Dorothy</td>\n",
       "      <td>87</td>\n",
       "    </tr>\n",
       "    <tr>\n",
       "      <th>3</th>\n",
       "      <td>CO</td>\n",
       "      <td>F</td>\n",
       "      <td>1910</td>\n",
       "      <td>Ruth</td>\n",
       "      <td>68</td>\n",
       "    </tr>\n",
       "    <tr>\n",
       "      <th>4</th>\n",
       "      <td>CO</td>\n",
       "      <td>F</td>\n",
       "      <td>1910</td>\n",
       "      <td>Margaret</td>\n",
       "      <td>67</td>\n",
       "    </tr>\n",
       "  </tbody>\n",
       "</table>\n",
       "</div>"
      ],
      "text/plain": [
       "  state gender  year      name  count\n",
       "0    CO      F  1910      Mary    193\n",
       "1    CO      F  1910     Helen    112\n",
       "2    CO      F  1910   Dorothy     87\n",
       "3    CO      F  1910      Ruth     68\n",
       "4    CO      F  1910  Margaret     67"
      ]
     },
     "execution_count": 2,
     "metadata": {},
     "output_type": "execute_result"
    }
   ],
   "source": [
    "# code for reading the data appropriately and creating a multi-index\n",
    "names_flat = pd.read_csv('https://www.cs.colostate.edu/~asa/courses/dsci235/spr21/data/co_tx.txt', header=None, names=['state', 'gender', 'year', 'name', 'count'])\n",
    "names_flat.head()"
   ]
  },
  {
   "cell_type": "markdown",
   "metadata": {},
   "source": [
    "Next let's index it by state, gender, year, and name:"
   ]
  },
  {
   "cell_type": "code",
   "execution_count": 3,
   "metadata": {},
   "outputs": [
    {
     "data": {
      "text/html": [
       "<div>\n",
       "<style scoped>\n",
       "    .dataframe tbody tr th:only-of-type {\n",
       "        vertical-align: middle;\n",
       "    }\n",
       "\n",
       "    .dataframe tbody tr th {\n",
       "        vertical-align: top;\n",
       "    }\n",
       "\n",
       "    .dataframe thead th {\n",
       "        text-align: right;\n",
       "    }\n",
       "</style>\n",
       "<table border=\"1\" class=\"dataframe\">\n",
       "  <thead>\n",
       "    <tr style=\"text-align: right;\">\n",
       "      <th></th>\n",
       "      <th></th>\n",
       "      <th></th>\n",
       "      <th></th>\n",
       "      <th>count</th>\n",
       "    </tr>\n",
       "    <tr>\n",
       "      <th>state</th>\n",
       "      <th>gender</th>\n",
       "      <th>year</th>\n",
       "      <th>name</th>\n",
       "      <th></th>\n",
       "    </tr>\n",
       "  </thead>\n",
       "  <tbody>\n",
       "    <tr>\n",
       "      <th rowspan=\"5\" valign=\"top\">CO</th>\n",
       "      <th rowspan=\"5\" valign=\"top\">F</th>\n",
       "      <th rowspan=\"5\" valign=\"top\">1910</th>\n",
       "      <th>Mary</th>\n",
       "      <td>193</td>\n",
       "    </tr>\n",
       "    <tr>\n",
       "      <th>Helen</th>\n",
       "      <td>112</td>\n",
       "    </tr>\n",
       "    <tr>\n",
       "      <th>Dorothy</th>\n",
       "      <td>87</td>\n",
       "    </tr>\n",
       "    <tr>\n",
       "      <th>Ruth</th>\n",
       "      <td>68</td>\n",
       "    </tr>\n",
       "    <tr>\n",
       "      <th>Margaret</th>\n",
       "      <td>67</td>\n",
       "    </tr>\n",
       "  </tbody>\n",
       "</table>\n",
       "</div>"
      ],
      "text/plain": [
       "                            count\n",
       "state gender year name           \n",
       "CO    F      1910 Mary        193\n",
       "                  Helen       112\n",
       "                  Dorothy      87\n",
       "                  Ruth         68\n",
       "                  Margaret     67"
      ]
     },
     "execution_count": 3,
     "metadata": {},
     "output_type": "execute_result"
    }
   ],
   "source": [
    "names=names_flat.set_index(['state','gender','year', 'name'])\n",
    "names.head()"
   ]
  },
  {
   "cell_type": "markdown",
   "metadata": {},
   "source": [
    "You may choose to reindex the DataFrame depending on the needs of each question.\n",
    "\n",
    "#### Most popular names\n",
    "\n",
    "* What was the most popular female baby name in Colorado in 2018? (You can use `idxmax`).\n"
   ]
  },
  {
   "cell_type": "code",
   "execution_count": 4,
   "metadata": {},
   "outputs": [
    {
     "data": {
      "text/plain": [
       "count    Olivia\n",
       "dtype: object"
      ]
     },
     "execution_count": 4,
     "metadata": {},
     "output_type": "execute_result"
    }
   ],
   "source": [
    "pop_name = names.loc[('CO','F',2018)].idxmax()\n",
    "pop_name"
   ]
  },
  {
   "cell_type": "markdown",
   "metadata": {},
   "source": [
    "#### Increase in popularity\n",
    "\n",
    "Which Colorado male name has shown the largest increase in popularity from 2017 to 2018?  Use the `subtract` method using a fill_value of 0 to prevent `NaN`s."
   ]
  },
  {
   "cell_type": "code",
   "execution_count": 5,
   "metadata": {},
   "outputs": [
    {
     "data": {
      "text/plain": [
       "count    Nolan\n",
       "dtype: object"
      ]
     },
     "execution_count": 5,
     "metadata": {},
     "output_type": "execute_result"
    }
   ],
   "source": [
    "largest_increase = (names.loc[('CO','M',2018)].subtract(names.loc[('CO','M',2017)], fill_value=0)).idxmax()\n",
    "largest_increase"
   ]
  },
  {
   "cell_type": "markdown",
   "metadata": {},
   "source": [
    "#### How many babies?\n",
    "\n",
    "Compute how many babies were born in Colorado in 1945."
   ]
  },
  {
   "cell_type": "code",
   "execution_count": 7,
   "metadata": {},
   "outputs": [
    {
     "data": {
      "text/plain": [
       "count    21341\n",
       "dtype: int64"
      ]
     },
     "execution_count": 7,
     "metadata": {},
     "output_type": "execute_result"
    }
   ],
   "source": [
    "babies = names.loc[('CO', slice(None), 1945)].sum()\n",
    "babies"
   ]
  },
  {
   "cell_type": "markdown",
   "metadata": {},
   "source": [
    "#### Earliest occurrence of a name\n",
    "\n",
    "What year did \"Taylor\" make its first appearance as a female name in Texas?  As a male name in Texas?  You can do this with or without using `reset_index` to change the index."
   ]
  },
  {
   "cell_type": "code",
   "execution_count": 13,
   "metadata": {},
   "outputs": [
    {
     "name": "stdout",
     "output_type": "stream",
     "text": [
      "First appearance of 'Taylor' as a female name in Texas: 1975\n",
      "First appearance of 'Taylor' as a male name in Texas: 1910\n"
     ]
    }
   ],
   "source": [
    "female_taylor = names.loc[('TX','F')].reset_index().loc[names.loc[('TX','F')].reset_index()['name'] == 'Taylor'].min()['year']\n",
    "print(f\"First appearance of 'Taylor' as a female name in Texas: {female_taylor}\")\n",
    "\n",
    "male_taylor = names.loc[('TX','M')].reset_index().loc[names.loc[('TX','M')].reset_index()['name'] == 'Taylor'].min()['year']\n",
    "print(f\"First appearance of 'Taylor' as a male name in Texas: {male_taylor}\")"
   ]
  },
  {
   "cell_type": "markdown",
   "metadata": {},
   "source": [
    "#### Combining data across Colorado and Texas\n",
    "\n",
    "Create a new `DataFrame` that contains the sum of name counts from Colorado and Texas for each name for each year and gender.  The count column in this `DataFrame` will be the sum of the counts for a given baby name in Texas and Colorado for that give year in that gender.  Use the `add` method for this task.\n"
   ]
  },
  {
   "cell_type": "code",
   "execution_count": 14,
   "metadata": {},
   "outputs": [
    {
     "data": {
      "text/html": [
       "<div>\n",
       "<style scoped>\n",
       "    .dataframe tbody tr th:only-of-type {\n",
       "        vertical-align: middle;\n",
       "    }\n",
       "\n",
       "    .dataframe tbody tr th {\n",
       "        vertical-align: top;\n",
       "    }\n",
       "\n",
       "    .dataframe thead th {\n",
       "        text-align: right;\n",
       "    }\n",
       "</style>\n",
       "<table border=\"1\" class=\"dataframe\">\n",
       "  <thead>\n",
       "    <tr style=\"text-align: right;\">\n",
       "      <th></th>\n",
       "      <th></th>\n",
       "      <th></th>\n",
       "      <th></th>\n",
       "      <th>count</th>\n",
       "    </tr>\n",
       "    <tr>\n",
       "      <th>state</th>\n",
       "      <th>gender</th>\n",
       "      <th>year</th>\n",
       "      <th>name</th>\n",
       "      <th></th>\n",
       "    </tr>\n",
       "  </thead>\n",
       "  <tbody>\n",
       "    <tr>\n",
       "      <th rowspan=\"5\" valign=\"top\">CO</th>\n",
       "      <th rowspan=\"5\" valign=\"top\">F</th>\n",
       "      <th rowspan=\"5\" valign=\"top\">1910</th>\n",
       "      <th>Ada</th>\n",
       "      <td>5.0</td>\n",
       "    </tr>\n",
       "    <tr>\n",
       "      <th>Agnes</th>\n",
       "      <td>14.0</td>\n",
       "    </tr>\n",
       "    <tr>\n",
       "      <th>Alice</th>\n",
       "      <td>46.0</td>\n",
       "    </tr>\n",
       "    <tr>\n",
       "      <th>Alma</th>\n",
       "      <td>12.0</td>\n",
       "    </tr>\n",
       "    <tr>\n",
       "      <th>Amelia</th>\n",
       "      <td>10.0</td>\n",
       "    </tr>\n",
       "    <tr>\n",
       "      <th>...</th>\n",
       "      <th>...</th>\n",
       "      <th>...</th>\n",
       "      <th>...</th>\n",
       "      <td>...</td>\n",
       "    </tr>\n",
       "    <tr>\n",
       "      <th rowspan=\"5\" valign=\"top\">TX</th>\n",
       "      <th rowspan=\"5\" valign=\"top\">M</th>\n",
       "      <th rowspan=\"5\" valign=\"top\">2018</th>\n",
       "      <th>Zlatan</th>\n",
       "      <td>6.0</td>\n",
       "    </tr>\n",
       "    <tr>\n",
       "      <th>Zuriel</th>\n",
       "      <td>8.0</td>\n",
       "    </tr>\n",
       "    <tr>\n",
       "      <th>Zyaire</th>\n",
       "      <td>16.0</td>\n",
       "    </tr>\n",
       "    <tr>\n",
       "      <th>Zyan</th>\n",
       "      <td>8.0</td>\n",
       "    </tr>\n",
       "    <tr>\n",
       "      <th>Zyon</th>\n",
       "      <td>21.0</td>\n",
       "    </tr>\n",
       "  </tbody>\n",
       "</table>\n",
       "<p>456990 rows × 1 columns</p>\n",
       "</div>"
      ],
      "text/plain": [
       "                          count\n",
       "state gender year name         \n",
       "CO    F      1910 Ada       5.0\n",
       "                  Agnes    14.0\n",
       "                  Alice    46.0\n",
       "                  Alma     12.0\n",
       "                  Amelia   10.0\n",
       "...                         ...\n",
       "TX    M      2018 Zlatan    6.0\n",
       "                  Zuriel    8.0\n",
       "                  Zyaire   16.0\n",
       "                  Zyan      8.0\n",
       "                  Zyon     21.0\n",
       "\n",
       "[456990 rows x 1 columns]"
      ]
     },
     "execution_count": 14,
     "metadata": {},
     "output_type": "execute_result"
    }
   ],
   "source": [
    "names_combined = names.loc[('CO', slice(None)), :].add(names.loc[('TX', slice(None)), :], fill_value=0)\n",
    "names_combined"
   ]
  },
  {
   "cell_type": "markdown",
   "metadata": {},
   "source": [
    "## Analyzing annual GDP\n",
    "\n",
    "Next, we will analyze a dataset of annual Gross Domestic Product (GDP) collected from the 1960's across the world.  And remember - no Boolean indexing in this assignment!"
   ]
  },
  {
   "cell_type": "code",
   "execution_count": 15,
   "metadata": {},
   "outputs": [
    {
     "data": {
      "text/html": [
       "<div>\n",
       "<style scoped>\n",
       "    .dataframe tbody tr th:only-of-type {\n",
       "        vertical-align: middle;\n",
       "    }\n",
       "\n",
       "    .dataframe tbody tr th {\n",
       "        vertical-align: top;\n",
       "    }\n",
       "\n",
       "    .dataframe thead th {\n",
       "        text-align: right;\n",
       "    }\n",
       "</style>\n",
       "<table border=\"1\" class=\"dataframe\">\n",
       "  <thead>\n",
       "    <tr style=\"text-align: right;\">\n",
       "      <th></th>\n",
       "      <th>index</th>\n",
       "      <th>country</th>\n",
       "      <th>year</th>\n",
       "      <th>population</th>\n",
       "      <th>GDP</th>\n",
       "    </tr>\n",
       "  </thead>\n",
       "  <tbody>\n",
       "    <tr>\n",
       "      <th>0</th>\n",
       "      <td>2271</td>\n",
       "      <td>Afghanistan</td>\n",
       "      <td>2015</td>\n",
       "      <td>32526562.0</td>\n",
       "      <td>1.919944e+10</td>\n",
       "    </tr>\n",
       "    <tr>\n",
       "      <th>1</th>\n",
       "      <td>2272</td>\n",
       "      <td>Afghanistan</td>\n",
       "      <td>2014</td>\n",
       "      <td>31627506.0</td>\n",
       "      <td>2.005019e+10</td>\n",
       "    </tr>\n",
       "    <tr>\n",
       "      <th>2</th>\n",
       "      <td>2273</td>\n",
       "      <td>Afghanistan</td>\n",
       "      <td>2013</td>\n",
       "      <td>30682500.0</td>\n",
       "      <td>2.004633e+10</td>\n",
       "    </tr>\n",
       "    <tr>\n",
       "      <th>3</th>\n",
       "      <td>2274</td>\n",
       "      <td>Afghanistan</td>\n",
       "      <td>2012</td>\n",
       "      <td>29726803.0</td>\n",
       "      <td>2.053654e+10</td>\n",
       "    </tr>\n",
       "    <tr>\n",
       "      <th>4</th>\n",
       "      <td>2275</td>\n",
       "      <td>Afghanistan</td>\n",
       "      <td>2011</td>\n",
       "      <td>28809167.0</td>\n",
       "      <td>1.793024e+10</td>\n",
       "    </tr>\n",
       "  </tbody>\n",
       "</table>\n",
       "</div>"
      ],
      "text/plain": [
       "   index      country  year  population           GDP\n",
       "0   2271  Afghanistan  2015  32526562.0  1.919944e+10\n",
       "1   2272  Afghanistan  2014  31627506.0  2.005019e+10\n",
       "2   2273  Afghanistan  2013  30682500.0  2.004633e+10\n",
       "3   2274  Afghanistan  2012  29726803.0  2.053654e+10\n",
       "4   2275  Afghanistan  2011  28809167.0  1.793024e+10"
      ]
     },
     "execution_count": 15,
     "metadata": {},
     "output_type": "execute_result"
    }
   ],
   "source": [
    "gdp = pd.read_csv('http://cs.colostate.edu/~asa/courses/dsci235/spr21/data/worldstats.csv')\n",
    "gdp.head()"
   ]
  },
  {
   "cell_type": "markdown",
   "metadata": {},
   "source": [
    "Set the index to a MultiIndex that will help you answer the following questions:"
   ]
  },
  {
   "cell_type": "markdown",
   "metadata": {},
   "source": [
    "* Create a DataFrame or Series that contains the GDP numbers for Pakistan between 2005 and 2010 (inclusive of the end points)."
   ]
  },
  {
   "cell_type": "code",
   "execution_count": 16,
   "metadata": {},
   "outputs": [
    {
     "data": {
      "text/html": [
       "<div>\n",
       "<style scoped>\n",
       "    .dataframe tbody tr th:only-of-type {\n",
       "        vertical-align: middle;\n",
       "    }\n",
       "\n",
       "    .dataframe tbody tr th {\n",
       "        vertical-align: top;\n",
       "    }\n",
       "\n",
       "    .dataframe thead th {\n",
       "        text-align: right;\n",
       "    }\n",
       "</style>\n",
       "<table border=\"1\" class=\"dataframe\">\n",
       "  <thead>\n",
       "    <tr style=\"text-align: right;\">\n",
       "      <th></th>\n",
       "      <th>GDP</th>\n",
       "    </tr>\n",
       "    <tr>\n",
       "      <th>year</th>\n",
       "      <th></th>\n",
       "    </tr>\n",
       "  </thead>\n",
       "  <tbody>\n",
       "    <tr>\n",
       "      <th>2010</th>\n",
       "      <td>1.774069e+11</td>\n",
       "    </tr>\n",
       "    <tr>\n",
       "      <th>2009</th>\n",
       "      <td>1.681528e+11</td>\n",
       "    </tr>\n",
       "    <tr>\n",
       "      <th>2008</th>\n",
       "      <td>1.700778e+11</td>\n",
       "    </tr>\n",
       "    <tr>\n",
       "      <th>2007</th>\n",
       "      <td>1.523857e+11</td>\n",
       "    </tr>\n",
       "    <tr>\n",
       "      <th>2006</th>\n",
       "      <td>1.372641e+11</td>\n",
       "    </tr>\n",
       "    <tr>\n",
       "      <th>2005</th>\n",
       "      <td>1.095021e+11</td>\n",
       "    </tr>\n",
       "  </tbody>\n",
       "</table>\n",
       "</div>"
      ],
      "text/plain": [
       "               GDP\n",
       "year              \n",
       "2010  1.774069e+11\n",
       "2009  1.681528e+11\n",
       "2008  1.700778e+11\n",
       "2007  1.523857e+11\n",
       "2006  1.372641e+11\n",
       "2005  1.095021e+11"
      ]
     },
     "execution_count": 16,
     "metadata": {},
     "output_type": "execute_result"
    }
   ],
   "source": [
    "pakistan_gdp = gdp[(gdp['country'] == 'Pakistan') & (gdp['year'].between(2005, 2010))]\n",
    "pakistan_gdp_filtered = pakistan_gdp[['year', 'GDP']].set_index('year')\n",
    "pakistan_gdp_filtered"
   ]
  },
  {
   "cell_type": "markdown",
   "metadata": {},
   "source": [
    "* Compute the GDP per person, and add that to the data frame as a column labeled per_capita_gdp."
   ]
  },
  {
   "cell_type": "code",
   "execution_count": 17,
   "metadata": {},
   "outputs": [
    {
     "data": {
      "text/html": [
       "<div>\n",
       "<style scoped>\n",
       "    .dataframe tbody tr th:only-of-type {\n",
       "        vertical-align: middle;\n",
       "    }\n",
       "\n",
       "    .dataframe tbody tr th {\n",
       "        vertical-align: top;\n",
       "    }\n",
       "\n",
       "    .dataframe thead th {\n",
       "        text-align: right;\n",
       "    }\n",
       "</style>\n",
       "<table border=\"1\" class=\"dataframe\">\n",
       "  <thead>\n",
       "    <tr style=\"text-align: right;\">\n",
       "      <th></th>\n",
       "      <th>index</th>\n",
       "      <th>country</th>\n",
       "      <th>year</th>\n",
       "      <th>population</th>\n",
       "      <th>GDP</th>\n",
       "      <th>per_capita_gdp</th>\n",
       "    </tr>\n",
       "  </thead>\n",
       "  <tbody>\n",
       "    <tr>\n",
       "      <th>0</th>\n",
       "      <td>2271</td>\n",
       "      <td>Afghanistan</td>\n",
       "      <td>2015</td>\n",
       "      <td>32526562.0</td>\n",
       "      <td>1.919944e+10</td>\n",
       "      <td>590.269515</td>\n",
       "    </tr>\n",
       "    <tr>\n",
       "      <th>1</th>\n",
       "      <td>2272</td>\n",
       "      <td>Afghanistan</td>\n",
       "      <td>2014</td>\n",
       "      <td>31627506.0</td>\n",
       "      <td>2.005019e+10</td>\n",
       "      <td>633.947864</td>\n",
       "    </tr>\n",
       "    <tr>\n",
       "      <th>2</th>\n",
       "      <td>2273</td>\n",
       "      <td>Afghanistan</td>\n",
       "      <td>2013</td>\n",
       "      <td>30682500.0</td>\n",
       "      <td>2.004633e+10</td>\n",
       "      <td>653.347488</td>\n",
       "    </tr>\n",
       "    <tr>\n",
       "      <th>3</th>\n",
       "      <td>2274</td>\n",
       "      <td>Afghanistan</td>\n",
       "      <td>2012</td>\n",
       "      <td>29726803.0</td>\n",
       "      <td>2.053654e+10</td>\n",
       "      <td>690.842629</td>\n",
       "    </tr>\n",
       "    <tr>\n",
       "      <th>4</th>\n",
       "      <td>2275</td>\n",
       "      <td>Afghanistan</td>\n",
       "      <td>2011</td>\n",
       "      <td>28809167.0</td>\n",
       "      <td>1.793024e+10</td>\n",
       "      <td>622.379654</td>\n",
       "    </tr>\n",
       "    <tr>\n",
       "      <th>...</th>\n",
       "      <td>...</td>\n",
       "      <td>...</td>\n",
       "      <td>...</td>\n",
       "      <td>...</td>\n",
       "      <td>...</td>\n",
       "      <td>...</td>\n",
       "    </tr>\n",
       "    <tr>\n",
       "      <th>8935</th>\n",
       "      <td>11206</td>\n",
       "      <td>Zimbabwe</td>\n",
       "      <td>1964</td>\n",
       "      <td>4279561.0</td>\n",
       "      <td>1.217138e+09</td>\n",
       "      <td>284.407209</td>\n",
       "    </tr>\n",
       "    <tr>\n",
       "      <th>8936</th>\n",
       "      <td>11207</td>\n",
       "      <td>Zimbabwe</td>\n",
       "      <td>1963</td>\n",
       "      <td>4140804.0</td>\n",
       "      <td>1.159512e+09</td>\n",
       "      <td>280.020909</td>\n",
       "    </tr>\n",
       "    <tr>\n",
       "      <th>8937</th>\n",
       "      <td>11208</td>\n",
       "      <td>Zimbabwe</td>\n",
       "      <td>1962</td>\n",
       "      <td>4006262.0</td>\n",
       "      <td>1.117602e+09</td>\n",
       "      <td>278.963682</td>\n",
       "    </tr>\n",
       "    <tr>\n",
       "      <th>8938</th>\n",
       "      <td>11209</td>\n",
       "      <td>Zimbabwe</td>\n",
       "      <td>1961</td>\n",
       "      <td>3876638.0</td>\n",
       "      <td>1.096647e+09</td>\n",
       "      <td>282.885996</td>\n",
       "    </tr>\n",
       "    <tr>\n",
       "      <th>8939</th>\n",
       "      <td>11210</td>\n",
       "      <td>Zimbabwe</td>\n",
       "      <td>1960</td>\n",
       "      <td>3752390.0</td>\n",
       "      <td>1.052990e+09</td>\n",
       "      <td>280.618592</td>\n",
       "    </tr>\n",
       "  </tbody>\n",
       "</table>\n",
       "<p>8940 rows × 6 columns</p>\n",
       "</div>"
      ],
      "text/plain": [
       "      index      country  year  population           GDP  per_capita_gdp\n",
       "0      2271  Afghanistan  2015  32526562.0  1.919944e+10      590.269515\n",
       "1      2272  Afghanistan  2014  31627506.0  2.005019e+10      633.947864\n",
       "2      2273  Afghanistan  2013  30682500.0  2.004633e+10      653.347488\n",
       "3      2274  Afghanistan  2012  29726803.0  2.053654e+10      690.842629\n",
       "4      2275  Afghanistan  2011  28809167.0  1.793024e+10      622.379654\n",
       "...     ...          ...   ...         ...           ...             ...\n",
       "8935  11206     Zimbabwe  1964   4279561.0  1.217138e+09      284.407209\n",
       "8936  11207     Zimbabwe  1963   4140804.0  1.159512e+09      280.020909\n",
       "8937  11208     Zimbabwe  1962   4006262.0  1.117602e+09      278.963682\n",
       "8938  11209     Zimbabwe  1961   3876638.0  1.096647e+09      282.885996\n",
       "8939  11210     Zimbabwe  1960   3752390.0  1.052990e+09      280.618592\n",
       "\n",
       "[8940 rows x 6 columns]"
      ]
     },
     "execution_count": 17,
     "metadata": {},
     "output_type": "execute_result"
    }
   ],
   "source": [
    "gdp['per_capita_gdp'] = gdp['GDP'] / gdp['population']\n",
    "gdp"
   ]
  },
  {
   "cell_type": "markdown",
   "metadata": {},
   "source": [
    "* Find the country that had the largest per-capita growth in GDP from 1990 to 2015."
   ]
  },
  {
   "cell_type": "code",
   "execution_count": 18,
   "metadata": {},
   "outputs": [
    {
     "name": "stdout",
     "output_type": "stream",
     "text": [
      "The country with the largest per capita GDP growth from 1990 to 2015 is Macao SAR, China with a growth of 70273.70\n"
     ]
    }
   ],
   "source": [
    "gdp['per_capita_gdp'] = gdp['GDP'] / gdp['population']\n",
    "\n",
    "gdp_filtered = gdp[gdp['year'].isin([1990, 2015])]\n",
    "\n",
    "gdp_pivot = gdp_filtered.pivot(index='country', columns='year', values='per_capita_gdp')\n",
    "\n",
    "gdp_pivot['growth'] = gdp_pivot[2015] - gdp_pivot[1990]\n",
    "max_growth_country = gdp_pivot['growth'].idxmax()\n",
    "max_growth_value = gdp_pivot['growth'].max()\n",
    "\n",
    "\n",
    "print(f\"The country with the largest per capita GDP growth from 1990 to 2015 is {max_growth_country} with a growth of {max_growth_value:.2f}\")"
   ]
  },
  {
   "cell_type": "markdown",
   "metadata": {},
   "source": [
    "* Plot the per_capita_gdp over time of three countries of your choice in a single graph.  Use a DataFrame's `plot` function for this.  The following [Stack Overflow post](https://stackoverflow.com/questions/45467320/plot-multiple-pandas-dataframes-in-one-graph) will help you in figuring out how to make pandas plot everything in the same graph."
   ]
  },
  {
   "cell_type": "code",
   "execution_count": 19,
   "metadata": {},
   "outputs": [
    {
     "data": {
      "image/png": "[encoded data removed]",
      "text/plain": [
       "<Figure size 1000x600 with 1 Axes>"
      ]
     },
     "metadata": {},
     "output_type": "display_data"
    }
   ],
   "source": [
    "gdp['per_capita_gdp'] = gdp['GDP'] / gdp['population']\n",
    "\n",
    "# Select three countries (e.g., United States, India, China)\n",
    "countries = ['United States', 'India', 'China']\n",
    "gdp_selected = gdp[gdp['country'].isin(countries)]\n",
    "\n",
    "gdp_pivot = gdp_selected.pivot(index='year', columns='country', values='per_capita_gdp')\n",
    "\n",
    "# Plot the data\n",
    "gdp_pivot.plot(figsize=(10, 6), marker='o', linestyle='-')\n",
    "\n",
    "plt.title(\"Per Capita GDP Over Time (United States, India, China)\")\n",
    "plt.xlabel(\"Year\")\n",
    "plt.ylabel(\"Per Capita GDP\")\n",
    "plt.legend(title=\"Country\")\n",
    "plt.grid(True)\n",
    "\n",
    "# Show the plot\n",
    "plt.show()"
   ]
  },
  {
   "cell_type": "markdown",
   "metadata": {},
   "source": [
    "### Submission\n",
    "\n",
    "Submit your assignment as a Jupyter notebook via Canvas.  \n",
    "\n",
    "### Grading \n",
    "\n",
    "Here is what the grade sheet will look like for this assignment. \n",
    "\n",
    "```\n",
    "Grading sheet for assignment 3\n",
    "\n",
    "Baby names (60 pts)\n",
    "\n",
    "  Most popular baby name in Colorado in 2018 (10 pts)\n",
    "  Increase in popularity (10 pts)\n",
    "  Unisex names (10 pts)\n",
    "  How many babies in Colorado (10 pts)\n",
    "  Earliest occurrence (10 pts)\n",
    "  Combined data (10 pts)\n",
    "  \n",
    "GDP (40 pts)\n",
    "\n",
    "  GDP of Pakistan (10 pts)\n",
    "  GDP per person (10 pts)\n",
    "  GDP growth (10 pts)\n",
    "  GDP plot (10 pts)\n",
    "\n",
    "```\n",
    "\n",
    "Throughout the course, use of for loops is discouraged.  **Points will be taken off for using for loops unless explicitly allowed.**  pandas provides tools for accomplishing things without the need for Python loops.\n"
   ]
  }
 ],
 "metadata": {
  "kernelspec": {
   "display_name": "Python 3 (ipykernel)",
   "language": "python",
   "name": "python3"
  },
  "language_info": {
   "codemirror_mode": {
    "name": "ipython",
    "version": 3
   },
   "file_extension": ".py",
   "mimetype": "text/x-python",
   "name": "python",
   "nbconvert_exporter": "python",
   "pygments_lexer": "ipython3",
   "version": "3.11.11"
  }
 },
 "nbformat": 4,
 "nbformat_minor": 4
}
